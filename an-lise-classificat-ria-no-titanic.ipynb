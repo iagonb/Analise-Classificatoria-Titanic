{
 "cells": [
  {
   "cell_type": "markdown",
   "id": "ccfae941",
   "metadata": {
    "execution": {
     "iopub.execute_input": "2022-01-04T21:01:58.651917Z",
     "iopub.status.busy": "2022-01-04T21:01:58.651551Z",
     "iopub.status.idle": "2022-01-04T21:01:59.866796Z",
     "shell.execute_reply": "2022-01-04T21:01:59.865668Z",
     "shell.execute_reply.started": "2022-01-04T21:01:58.651881Z"
    },
    "papermill": {
     "duration": 0.03578,
     "end_time": "2022-01-06T20:02:19.656168",
     "exception": false,
     "start_time": "2022-01-06T20:02:19.620388",
     "status": "completed"
    },
    "tags": []
   },
   "source": [
    "# Importando os Dados"
   ]
  },
  {
   "cell_type": "code",
   "execution_count": 1,
   "id": "cc552799",
   "metadata": {
    "execution": {
     "iopub.execute_input": "2022-01-06T20:02:19.728590Z",
     "iopub.status.busy": "2022-01-06T20:02:19.727493Z",
     "iopub.status.idle": "2022-01-06T20:02:20.727940Z",
     "shell.execute_reply": "2022-01-06T20:02:20.726711Z",
     "shell.execute_reply.started": "2022-01-06T19:46:08.579239Z"
    },
    "papermill": {
     "duration": 1.037368,
     "end_time": "2022-01-06T20:02:20.728120",
     "exception": false,
     "start_time": "2022-01-06T20:02:19.690752",
     "status": "completed"
    },
    "tags": []
   },
   "outputs": [],
   "source": [
    "import pandas as pd\n",
    "import numpy as np\n",
    "import matplotlib.pyplot as plt\n",
    "import seaborn as sns; sns.set()"
   ]
  },
  {
   "cell_type": "code",
   "execution_count": 2,
   "id": "065d31cc",
   "metadata": {
    "execution": {
     "iopub.execute_input": "2022-01-06T20:02:20.802003Z",
     "iopub.status.busy": "2022-01-06T20:02:20.801055Z",
     "iopub.status.idle": "2022-01-06T20:02:20.810153Z",
     "shell.execute_reply": "2022-01-06T20:02:20.810573Z",
     "shell.execute_reply.started": "2022-01-06T19:46:09.746345Z"
    },
    "papermill": {
     "duration": 0.046953,
     "end_time": "2022-01-06T20:02:20.810779",
     "exception": false,
     "start_time": "2022-01-06T20:02:20.763826",
     "status": "completed"
    },
    "tags": []
   },
   "outputs": [
    {
     "name": "stdout",
     "output_type": "stream",
     "text": [
      "/kaggle/input/titanic/train.csv\n",
      "/kaggle/input/titanic/test.csv\n",
      "/kaggle/input/titanic/gender_submission.csv\n"
     ]
    }
   ],
   "source": [
    "import os\n",
    "for dirname, _, filenames in os.walk('/kaggle/input'):\n",
    "    for filename in filenames:\n",
    "        print(os.path.join(dirname, filename))"
   ]
  },
  {
   "cell_type": "code",
   "execution_count": 3,
   "id": "23d842ca",
   "metadata": {
    "execution": {
     "iopub.execute_input": "2022-01-06T20:02:20.885469Z",
     "iopub.status.busy": "2022-01-06T20:02:20.884839Z",
     "iopub.status.idle": "2022-01-06T20:02:20.924234Z",
     "shell.execute_reply": "2022-01-06T20:02:20.923571Z",
     "shell.execute_reply.started": "2022-01-06T19:46:09.757958Z"
    },
    "papermill": {
     "duration": 0.07627,
     "end_time": "2022-01-06T20:02:20.924386",
     "exception": false,
     "start_time": "2022-01-06T20:02:20.848116",
     "status": "completed"
    },
    "tags": []
   },
   "outputs": [],
   "source": [
    "train = pd.read_csv('/kaggle/input/titanic/train.csv')\n",
    "test = pd.read_csv('/kaggle/input/titanic/test.csv')\n",
    "\n",
    "full_data = pd.concat([train.drop('Survived', axis=1), test], ignore_index=True)"
   ]
  },
  {
   "cell_type": "markdown",
   "id": "6b94ad6d",
   "metadata": {
    "papermill": {
     "duration": 0.034148,
     "end_time": "2022-01-06T20:02:20.994188",
     "exception": false,
     "start_time": "2022-01-06T20:02:20.960040",
     "status": "completed"
    },
    "tags": []
   },
   "source": [
    "Vamos iniciar olhando os arquivos de dados de treino, para realizarmos a limpeza dos dados."
   ]
  },
  {
   "cell_type": "code",
   "execution_count": 4,
   "id": "378ed4fc",
   "metadata": {
    "execution": {
     "iopub.execute_input": "2022-01-06T20:02:21.066265Z",
     "iopub.status.busy": "2022-01-06T20:02:21.065582Z",
     "iopub.status.idle": "2022-01-06T20:02:21.086902Z",
     "shell.execute_reply": "2022-01-06T20:02:21.086370Z",
     "shell.execute_reply.started": "2022-01-06T19:46:09.813548Z"
    },
    "papermill": {
     "duration": 0.058555,
     "end_time": "2022-01-06T20:02:21.087041",
     "exception": false,
     "start_time": "2022-01-06T20:02:21.028486",
     "status": "completed"
    },
    "tags": []
   },
   "outputs": [
    {
     "data": {
      "text/html": [
       "<div>\n",
       "<style scoped>\n",
       "    .dataframe tbody tr th:only-of-type {\n",
       "        vertical-align: middle;\n",
       "    }\n",
       "\n",
       "    .dataframe tbody tr th {\n",
       "        vertical-align: top;\n",
       "    }\n",
       "\n",
       "    .dataframe thead th {\n",
       "        text-align: right;\n",
       "    }\n",
       "</style>\n",
       "<table border=\"1\" class=\"dataframe\">\n",
       "  <thead>\n",
       "    <tr style=\"text-align: right;\">\n",
       "      <th></th>\n",
       "      <th>PassengerId</th>\n",
       "      <th>Survived</th>\n",
       "      <th>Pclass</th>\n",
       "      <th>Name</th>\n",
       "      <th>Sex</th>\n",
       "      <th>Age</th>\n",
       "      <th>SibSp</th>\n",
       "      <th>Parch</th>\n",
       "      <th>Ticket</th>\n",
       "      <th>Fare</th>\n",
       "      <th>Cabin</th>\n",
       "      <th>Embarked</th>\n",
       "    </tr>\n",
       "  </thead>\n",
       "  <tbody>\n",
       "    <tr>\n",
       "      <th>0</th>\n",
       "      <td>1</td>\n",
       "      <td>0</td>\n",
       "      <td>3</td>\n",
       "      <td>Braund, Mr. Owen Harris</td>\n",
       "      <td>male</td>\n",
       "      <td>22.0</td>\n",
       "      <td>1</td>\n",
       "      <td>0</td>\n",
       "      <td>A/5 21171</td>\n",
       "      <td>7.2500</td>\n",
       "      <td>NaN</td>\n",
       "      <td>S</td>\n",
       "    </tr>\n",
       "    <tr>\n",
       "      <th>1</th>\n",
       "      <td>2</td>\n",
       "      <td>1</td>\n",
       "      <td>1</td>\n",
       "      <td>Cumings, Mrs. John Bradley (Florence Briggs Th...</td>\n",
       "      <td>female</td>\n",
       "      <td>38.0</td>\n",
       "      <td>1</td>\n",
       "      <td>0</td>\n",
       "      <td>PC 17599</td>\n",
       "      <td>71.2833</td>\n",
       "      <td>C85</td>\n",
       "      <td>C</td>\n",
       "    </tr>\n",
       "    <tr>\n",
       "      <th>2</th>\n",
       "      <td>3</td>\n",
       "      <td>1</td>\n",
       "      <td>3</td>\n",
       "      <td>Heikkinen, Miss. Laina</td>\n",
       "      <td>female</td>\n",
       "      <td>26.0</td>\n",
       "      <td>0</td>\n",
       "      <td>0</td>\n",
       "      <td>STON/O2. 3101282</td>\n",
       "      <td>7.9250</td>\n",
       "      <td>NaN</td>\n",
       "      <td>S</td>\n",
       "    </tr>\n",
       "    <tr>\n",
       "      <th>3</th>\n",
       "      <td>4</td>\n",
       "      <td>1</td>\n",
       "      <td>1</td>\n",
       "      <td>Futrelle, Mrs. Jacques Heath (Lily May Peel)</td>\n",
       "      <td>female</td>\n",
       "      <td>35.0</td>\n",
       "      <td>1</td>\n",
       "      <td>0</td>\n",
       "      <td>113803</td>\n",
       "      <td>53.1000</td>\n",
       "      <td>C123</td>\n",
       "      <td>S</td>\n",
       "    </tr>\n",
       "    <tr>\n",
       "      <th>4</th>\n",
       "      <td>5</td>\n",
       "      <td>0</td>\n",
       "      <td>3</td>\n",
       "      <td>Allen, Mr. William Henry</td>\n",
       "      <td>male</td>\n",
       "      <td>35.0</td>\n",
       "      <td>0</td>\n",
       "      <td>0</td>\n",
       "      <td>373450</td>\n",
       "      <td>8.0500</td>\n",
       "      <td>NaN</td>\n",
       "      <td>S</td>\n",
       "    </tr>\n",
       "  </tbody>\n",
       "</table>\n",
       "</div>"
      ],
      "text/plain": [
       "   PassengerId  Survived  Pclass  \\\n",
       "0            1         0       3   \n",
       "1            2         1       1   \n",
       "2            3         1       3   \n",
       "3            4         1       1   \n",
       "4            5         0       3   \n",
       "\n",
       "                                                Name     Sex   Age  SibSp  \\\n",
       "0                            Braund, Mr. Owen Harris    male  22.0      1   \n",
       "1  Cumings, Mrs. John Bradley (Florence Briggs Th...  female  38.0      1   \n",
       "2                             Heikkinen, Miss. Laina  female  26.0      0   \n",
       "3       Futrelle, Mrs. Jacques Heath (Lily May Peel)  female  35.0      1   \n",
       "4                           Allen, Mr. William Henry    male  35.0      0   \n",
       "\n",
       "   Parch            Ticket     Fare Cabin Embarked  \n",
       "0      0         A/5 21171   7.2500   NaN        S  \n",
       "1      0          PC 17599  71.2833   C85        C  \n",
       "2      0  STON/O2. 3101282   7.9250   NaN        S  \n",
       "3      0            113803  53.1000  C123        S  \n",
       "4      0            373450   8.0500   NaN        S  "
      ]
     },
     "execution_count": 4,
     "metadata": {},
     "output_type": "execute_result"
    }
   ],
   "source": [
    "train.head()"
   ]
  },
  {
   "cell_type": "code",
   "execution_count": 5,
   "id": "1043e780",
   "metadata": {
    "execution": {
     "iopub.execute_input": "2022-01-06T20:02:21.161325Z",
     "iopub.status.busy": "2022-01-06T20:02:21.160661Z",
     "iopub.status.idle": "2022-01-06T20:02:21.165370Z",
     "shell.execute_reply": "2022-01-06T20:02:21.165864Z",
     "shell.execute_reply.started": "2022-01-06T19:46:09.842706Z"
    },
    "papermill": {
     "duration": 0.043462,
     "end_time": "2022-01-06T20:02:21.166045",
     "exception": false,
     "start_time": "2022-01-06T20:02:21.122583",
     "status": "completed"
    },
    "tags": []
   },
   "outputs": [
    {
     "data": {
      "text/plain": [
       "Index(['PassengerId', 'Survived', 'Pclass', 'Name', 'Sex', 'Age', 'SibSp',\n",
       "       'Parch', 'Ticket', 'Fare', 'Cabin', 'Embarked'],\n",
       "      dtype='object')"
      ]
     },
     "execution_count": 5,
     "metadata": {},
     "output_type": "execute_result"
    }
   ],
   "source": [
    "train.columns"
   ]
  },
  {
   "cell_type": "markdown",
   "id": "9cd88a58",
   "metadata": {
    "papermill": {
     "duration": 0.034734,
     "end_time": "2022-01-06T20:02:21.236616",
     "exception": false,
     "start_time": "2022-01-06T20:02:21.201882",
     "status": "completed"
    },
    "tags": []
   },
   "source": [
    "# Análise Exploratória dos Dados"
   ]
  },
  {
   "cell_type": "code",
   "execution_count": 6,
   "id": "961bcb24",
   "metadata": {
    "execution": {
     "iopub.execute_input": "2022-01-06T20:02:21.312218Z",
     "iopub.status.busy": "2022-01-06T20:02:21.311560Z",
     "iopub.status.idle": "2022-01-06T20:02:31.824556Z",
     "shell.execute_reply": "2022-01-06T20:02:31.825037Z",
     "shell.execute_reply.started": "2022-01-06T19:46:09.851601Z"
    },
    "papermill": {
     "duration": 10.553518,
     "end_time": "2022-01-06T20:02:31.825203",
     "exception": false,
     "start_time": "2022-01-06T20:02:21.271685",
     "status": "completed"
    },
    "tags": []
   },
   "outputs": [
    {
     "data": {
      "text/plain": [
       "<seaborn.axisgrid.PairGrid at 0x7fb91337ebd0>"
      ]
     },
     "execution_count": 6,
     "metadata": {},
     "output_type": "execute_result"
    },
    {
     "data": {
      "image/png": "[encoded data removed]",
      "text/plain": [
       "<Figure size 1157.97x1080 with 42 Axes>"
      ]
     },
     "metadata": {},
     "output_type": "display_data"
    }
   ],
   "source": [
    "sns.pairplot(train.drop(['PassengerId', 'Name'], axis=1), hue='Sex')"
   ]
  },
  {
   "cell_type": "markdown",
   "id": "8fc55b9f",
   "metadata": {
    "papermill": {
     "duration": 0.041783,
     "end_time": "2022-01-06T20:02:31.909180",
     "exception": false,
     "start_time": "2022-01-06T20:02:31.867397",
     "status": "completed"
    },
    "tags": []
   },
   "source": [
    "Um aspecto importante de olharmos de cara são as distribuições de cada variável. Ou seja, as distribuição de idade das pessoas do navio, sexo, classe econômica, cabines... Antes mesmo de olharmos mais a fundo para as relações dessas variáveis com a taxa de sobrevivência."
   ]
  },
  {
   "cell_type": "code",
   "execution_count": 7,
   "id": "0c3e903b",
   "metadata": {
    "execution": {
     "iopub.execute_input": "2022-01-06T20:02:31.997147Z",
     "iopub.status.busy": "2022-01-06T20:02:31.996533Z",
     "iopub.status.idle": "2022-01-06T20:02:33.905923Z",
     "shell.execute_reply": "2022-01-06T20:02:33.906851Z",
     "shell.execute_reply.started": "2022-01-06T19:46:22.414869Z"
    },
    "papermill": {
     "duration": 1.955698,
     "end_time": "2022-01-06T20:02:33.907096",
     "exception": false,
     "start_time": "2022-01-06T20:02:31.951398",
     "status": "completed"
    },
    "tags": []
   },
   "outputs": [
    {
     "data": {
      "image/png": "[encoded data removed]",
      "text/plain": [
       "<Figure size 1296x432 with 6 Axes>"
      ]
     },
     "metadata": {},
     "output_type": "display_data"
    }
   ],
   "source": [
    "# Cria os gráficos de distribuição em subplots\n",
    "rows = 2; columns = 3\n",
    "\n",
    "Xs = train.drop(['PassengerId', 'Survived', 'Name', 'Ticket', 'Cabin', 'Embarked'], axis = 1).columns #['Age', 'Pclass', 'Fare', 'Parch']\n",
    "\n",
    "fig, axs = plt.subplots(rows, columns,  figsize=(18, 6), constrained_layout=True)\n",
    "\n",
    "count = 0\n",
    "for i in range(rows):\n",
    "    for j in range(columns):\n",
    "        axs[i][j].hist(full_data[Xs[count]])\n",
    "        axs[i][j].set_xlabel(Xs[count])\n",
    "        \n",
    "        count += 1"
   ]
  },
  {
   "cell_type": "code",
   "execution_count": 8,
   "id": "abd6711d",
   "metadata": {
    "execution": {
     "iopub.execute_input": "2022-01-06T20:02:34.005698Z",
     "iopub.status.busy": "2022-01-06T20:02:34.004768Z",
     "iopub.status.idle": "2022-01-06T20:02:34.193153Z",
     "shell.execute_reply": "2022-01-06T20:02:34.192318Z",
     "shell.execute_reply.started": "2022-01-06T19:46:24.768714Z"
    },
    "papermill": {
     "duration": 0.237571,
     "end_time": "2022-01-06T20:02:34.193302",
     "exception": false,
     "start_time": "2022-01-06T20:02:33.955731",
     "status": "completed"
    },
    "tags": []
   },
   "outputs": [
    {
     "data": {
      "text/plain": [
       "(array([914.,   0.,   0.,   0.,   0., 270.,   0.,   0.,   0., 123.]),\n",
       " array([0. , 0.2, 0.4, 0.6, 0.8, 1. , 1.2, 1.4, 1.6, 1.8, 2. ]),\n",
       " <BarContainer object of 10 artists>)"
      ]
     },
     "execution_count": 8,
     "metadata": {},
     "output_type": "execute_result"
    },
    {
     "data": {
      "image/png": "[encoded data removed]",
      "text/plain": [
       "<Figure size 432x288 with 1 Axes>"
      ]
     },
     "metadata": {},
     "output_type": "display_data"
    }
   ],
   "source": [
    "plt.hist(full_data.Embarked.dropna(axis=0, how='any'))"
   ]
  },
  {
   "cell_type": "markdown",
   "id": "ec36e540",
   "metadata": {
    "papermill": {
     "duration": 0.043857,
     "end_time": "2022-01-06T20:02:34.281842",
     "exception": false,
     "start_time": "2022-01-06T20:02:34.237985",
     "status": "completed"
    },
    "tags": []
   },
   "source": [
    "Para a distribuição de idades no navio vamos tentar determinar a forma funcional da distribuição. Com essa forma em mãos poderemos fazer \"chutes educados\" em valores faltantes (NaN) de idade no nosso banco de dados caso necessário.\n",
    "\n",
    "Esse método também poderá ser extendido para outras variáveis se assim for necessário. "
   ]
  },
  {
   "cell_type": "code",
   "execution_count": 9,
   "id": "525c303d",
   "metadata": {
    "execution": {
     "iopub.execute_input": "2022-01-06T20:02:34.376203Z",
     "iopub.status.busy": "2022-01-06T20:02:34.375572Z",
     "iopub.status.idle": "2022-01-06T20:02:34.819521Z",
     "shell.execute_reply": "2022-01-06T20:02:34.818960Z",
     "shell.execute_reply.started": "2022-01-06T19:46:24.995225Z"
    },
    "papermill": {
     "duration": 0.493939,
     "end_time": "2022-01-06T20:02:34.819684",
     "exception": false,
     "start_time": "2022-01-06T20:02:34.325745",
     "status": "completed"
    },
    "tags": []
   },
   "outputs": [
    {
     "data": {
      "text/latex": [
       "$\\displaystyle R^2: 0.8115873563923345 \\\\$"
      ],
      "text/plain": [
       "<IPython.core.display.Math object>"
      ]
     },
     "metadata": {},
     "output_type": "display_data"
    },
    {
     "data": {
      "image/png": "[encoded data removed]",
      "text/plain": [
       "<Figure size 432x288 with 1 Axes>"
      ]
     },
     "metadata": {},
     "output_type": "display_data"
    }
   ],
   "source": [
    "from scipy.stats import norm\n",
    "from sklearn.metrics import r2_score\n",
    "from IPython.display import display, Math\n",
    "\n",
    "fit_data = full_data.Age.dropna(axis=0, how='any')\n",
    "\n",
    "# normal fit of data\n",
    "mu, sigma = norm.fit(fit_data)\n",
    "\n",
    "# the histogram of the data\n",
    "n, bins, patches = plt.hist(fit_data, density=True)\n",
    "\n",
    "# fitted normal probability distribution \n",
    "best_fit_line = norm.pdf(bins, mu, sigma)\n",
    "plt.plot(bins, best_fit_line, '--', linewidth=2.0)\n",
    "\n",
    "# r2 of the fit\n",
    "display(Math(r'R^2: {} \\\\'.format(r2_score(best_fit_line[1:], n))))"
   ]
  },
  {
   "cell_type": "markdown",
   "id": "54bcb703",
   "metadata": {
    "papermill": {
     "duration": 0.044785,
     "end_time": "2022-01-06T20:02:34.910055",
     "exception": false,
     "start_time": "2022-01-06T20:02:34.865270",
     "status": "completed"
    },
    "tags": []
   },
   "source": [
    "Para avaliarmos a distribuição de cabines teremos de fazer um agrupamento pelas iniciais das cabines. Parece que cada cabine recebe uma letra e um número como identificação. "
   ]
  },
  {
   "cell_type": "code",
   "execution_count": 10,
   "id": "2a14f518",
   "metadata": {
    "execution": {
     "iopub.execute_input": "2022-01-06T20:02:35.010693Z",
     "iopub.status.busy": "2022-01-06T20:02:35.009857Z",
     "iopub.status.idle": "2022-01-06T20:02:35.012937Z",
     "shell.execute_reply": "2022-01-06T20:02:35.013367Z",
     "shell.execute_reply.started": "2022-01-06T19:46:25.544289Z"
    },
    "papermill": {
     "duration": 0.057022,
     "end_time": "2022-01-06T20:02:35.013527",
     "exception": false,
     "start_time": "2022-01-06T20:02:34.956505",
     "status": "completed"
    },
    "tags": []
   },
   "outputs": [
    {
     "data": {
      "text/plain": [
       "<bound method IndexOpsMixin.value_counts of 0       NaN\n",
       "1       C85\n",
       "2       NaN\n",
       "3      C123\n",
       "4       NaN\n",
       "       ... \n",
       "886     NaN\n",
       "887     B42\n",
       "888     NaN\n",
       "889    C148\n",
       "890     NaN\n",
       "Name: Cabin, Length: 891, dtype: object>"
      ]
     },
     "execution_count": 10,
     "metadata": {},
     "output_type": "execute_result"
    }
   ],
   "source": [
    "train.Cabin.value_counts"
   ]
  },
  {
   "cell_type": "markdown",
   "id": "cb593f96",
   "metadata": {
    "papermill": {
     "duration": 0.045147,
     "end_time": "2022-01-06T20:02:35.104730",
     "exception": false,
     "start_time": "2022-01-06T20:02:35.059583",
     "status": "completed"
    },
    "tags": []
   },
   "source": [
    "Portanto, letras distantes provavelmente indicam localizações muito distintas das cabines, enquanto que cabines com mesma inicial mas números diferentes devem ter certa proximidade no navio. \n",
    "\n",
    "Assim, a identificação da cabine deve ser uma variável preditora relevante, imaginando que diferentes regiões do navio devem ter experenciado o naufrago de formas distintas. "
   ]
  },
  {
   "cell_type": "code",
   "execution_count": 11,
   "id": "bf163cd6",
   "metadata": {
    "execution": {
     "iopub.execute_input": "2022-01-06T20:02:35.203406Z",
     "iopub.status.busy": "2022-01-06T20:02:35.202728Z",
     "iopub.status.idle": "2022-01-06T20:02:35.204860Z",
     "shell.execute_reply": "2022-01-06T20:02:35.205325Z",
     "shell.execute_reply.started": "2022-01-06T19:46:25.558789Z"
    },
    "papermill": {
     "duration": 0.055059,
     "end_time": "2022-01-06T20:02:35.205492",
     "exception": false,
     "start_time": "2022-01-06T20:02:35.150433",
     "status": "completed"
    },
    "tags": []
   },
   "outputs": [],
   "source": [
    "# Cria uma coluna no dataframe com a variável Setor\n",
    "\n",
    "def sector_classificator(x):\n",
    "    if x == 'nan':\n",
    "        return np.nan\n",
    "    else:\n",
    "        return x[0]\n",
    "    \n",
    "train['Sector'] = train.Cabin.apply(lambda x: sector_classificator(str(x)))"
   ]
  },
  {
   "cell_type": "code",
   "execution_count": 12,
   "id": "8bfa6460",
   "metadata": {
    "execution": {
     "iopub.execute_input": "2022-01-06T20:02:35.303227Z",
     "iopub.status.busy": "2022-01-06T20:02:35.302541Z",
     "iopub.status.idle": "2022-01-06T20:02:35.307930Z",
     "shell.execute_reply": "2022-01-06T20:02:35.307431Z",
     "shell.execute_reply.started": "2022-01-06T19:46:25.575129Z"
    },
    "papermill": {
     "duration": 0.055602,
     "end_time": "2022-01-06T20:02:35.308068",
     "exception": false,
     "start_time": "2022-01-06T20:02:35.252466",
     "status": "completed"
    },
    "tags": []
   },
   "outputs": [
    {
     "data": {
      "text/plain": [
       "0      NaN\n",
       "1        C\n",
       "2      NaN\n",
       "3        C\n",
       "4      NaN\n",
       "      ... \n",
       "886    NaN\n",
       "887      B\n",
       "888    NaN\n",
       "889      C\n",
       "890    NaN\n",
       "Name: Sector, Length: 891, dtype: object"
      ]
     },
     "execution_count": 12,
     "metadata": {},
     "output_type": "execute_result"
    }
   ],
   "source": [
    "train.Sector"
   ]
  },
  {
   "cell_type": "markdown",
   "id": "8f02df62",
   "metadata": {
    "papermill": {
     "duration": 0.045486,
     "end_time": "2022-01-06T20:02:35.399799",
     "exception": false,
     "start_time": "2022-01-06T20:02:35.354313",
     "status": "completed"
    },
    "tags": []
   },
   "source": [
    "Agora podemos olhar em como os números de sobreviventes se relacionam com as nossas variáveis preditoras."
   ]
  },
  {
   "cell_type": "code",
   "execution_count": 13,
   "id": "50160571",
   "metadata": {
    "execution": {
     "iopub.execute_input": "2022-01-06T20:02:35.498517Z",
     "iopub.status.busy": "2022-01-06T20:02:35.497872Z",
     "iopub.status.idle": "2022-01-06T20:02:38.364691Z",
     "shell.execute_reply": "2022-01-06T20:02:38.365239Z",
     "shell.execute_reply.started": "2022-01-06T19:46:25.590529Z"
    },
    "papermill": {
     "duration": 2.919899,
     "end_time": "2022-01-06T20:02:38.365414",
     "exception": false,
     "start_time": "2022-01-06T20:02:35.445515",
     "status": "completed"
    },
    "tags": []
   },
   "outputs": [
    {
     "data": {
      "image/png": "[encoded data removed]",
      "text/plain": [
       "<Figure size 1296x432 with 8 Axes>"
      ]
     },
     "metadata": {},
     "output_type": "display_data"
    }
   ],
   "source": [
    "# Cria Subplots\n",
    "rows = 2; columns = 4\n",
    "\n",
    "Xs = train.drop(['PassengerId', 'Survived', 'Name', 'Ticket', 'Cabin'], axis = 1).columns #['Age', 'Pclass', 'Fare', 'Parch']\n",
    "\n",
    "fig, axs = plt.subplots(rows, columns,  figsize=(18, 6), constrained_layout=True)\n",
    "\n",
    "count = 0\n",
    "for i in range(rows):\n",
    "    for j in range(columns):\n",
    "        bar_serie = train.groupby(Xs[count]).Survived.sum()\n",
    "        # train.groupby('Sex').Survived.apply(lambda x: x.sum()/891)\n",
    "    \n",
    "        axs[i][j].bar(bar_serie.index, bar_serie)\n",
    "        axs[i][j].set_xlabel(Xs[count])\n",
    "    \n",
    "        count += 1\n",
    "    \n",
    "#axs[0].set_ylabel('Number of Survivors')"
   ]
  },
  {
   "cell_type": "markdown",
   "id": "9fe5c52a",
   "metadata": {
    "papermill": {
     "duration": 0.04881,
     "end_time": "2022-01-06T20:02:38.461650",
     "exception": false,
     "start_time": "2022-01-06T20:02:38.412840",
     "status": "completed"
    },
    "tags": []
   },
   "source": [
    "No entanto os gráficos de número de sobreviventes não é uma métrica boa. O motivo para isso é que ela não permite tirar conclusões robustas, vejamos por exemplo o número de sobreviventes por pais/filhos à bordo (**parch**).\n",
    "\n",
    "Olhando para o gráfico parece que quantos mais parch menos os sobreviventes, no entanto, provavelmente também teremos menos pessoas satisfazendo essa categoria no navio. Portanto uma métrica mais interessante seria olharmos para a fração de pessoas que, com determinado **parch**, sobreviveram."
   ]
  },
  {
   "cell_type": "code",
   "execution_count": 14,
   "id": "676501f4",
   "metadata": {
    "execution": {
     "iopub.execute_input": "2022-01-06T20:02:38.562380Z",
     "iopub.status.busy": "2022-01-06T20:02:38.561782Z",
     "iopub.status.idle": "2022-01-06T20:02:41.697742Z",
     "shell.execute_reply": "2022-01-06T20:02:41.698207Z",
     "shell.execute_reply.started": "2022-01-06T19:46:29.052430Z"
    },
    "papermill": {
     "duration": 3.187973,
     "end_time": "2022-01-06T20:02:41.698376",
     "exception": false,
     "start_time": "2022-01-06T20:02:38.510403",
     "status": "completed"
    },
    "tags": []
   },
   "outputs": [
    {
     "data": {
      "text/plain": [
       "Text(0.5, 0.98, 'Survival Fraction')"
      ]
     },
     "execution_count": 14,
     "metadata": {},
     "output_type": "execute_result"
    },
    {
     "data": {
      "image/png": "[encoded data removed]",
      "text/plain": [
       "<Figure size 1296x432 with 8 Axes>"
      ]
     },
     "metadata": {},
     "output_type": "display_data"
    }
   ],
   "source": [
    "# Cria Subplots com uma melhor métrica\n",
    "rows = 2; columns = 4\n",
    "\n",
    "Xs = train.drop(['PassengerId', 'Survived', 'Name', 'Ticket', 'Cabin'], axis = 1).columns #['Age', 'Pclass', 'Fare', 'Parch']\n",
    "\n",
    "fig, axs = plt.subplots(rows, columns,  figsize=(18, 6), constrained_layout=True)\n",
    "\n",
    "count = 0\n",
    "for i in range(rows):\n",
    "    for j in range(columns):        \n",
    "        df = train.groupby(Xs[count]).Survived.sum()\n",
    "        df_index = df.index\n",
    "    \n",
    "        bar = []\n",
    "        for index in df_index:\n",
    "            bar.append(df[index] / train[train[Xs[count]] == index].shape[0])\n",
    "        \n",
    "        axs[i][j].bar(df_index, bar, color='green')\n",
    "        axs[i][j].set_xlabel(Xs[count])\n",
    "    \n",
    "        count += 1\n",
    "    \n",
    "#axs[0].set_ylabel('Survival Probability')\n",
    "fig.suptitle('Survival Fraction', fontsize=25)"
   ]
  },
  {
   "cell_type": "markdown",
   "id": "a1b6e3a4",
   "metadata": {
    "papermill": {
     "duration": 0.048735,
     "end_time": "2022-01-06T20:02:41.796883",
     "exception": false,
     "start_time": "2022-01-06T20:02:41.748148",
     "status": "completed"
    },
    "tags": []
   },
   "source": [
    "Esses gráficos são muito mais esclarecedores. \n",
    "\n",
    "Agora, conseguimos observar melhor relações entre as variáveis preditoras com a **probabilidade de sobrevivência**. \n",
    "\n",
    "Primeiramente, aquela aparente relação dos números de **parch** com a **probabilidade de sobrevivência** parece ter sido totalmente jogada para o ralo. Agora quem possui *3 parchs* foram os que mais sobreviveram !\n",
    "\n",
    "Enquanto isso, agora a classe do navio (**Pclass**) parece ser um fator fundamental na sobrevivência dos tripulantes, note como a fração de sobreviventes decaiu enquanto a classe piorava. O mesmo ocorreu com a região de embarque (**Embarked**).\n",
    "\n",
    "O sexo(**Sex**) parece ser determinante também na taxa de sobrevivência, com as mulheres sobrevivendo ao desastre quase 4x mais que os homens !\n",
    "\n",
    "As outras variáveis (**Age, SibSp, Fare** e **Sector**) merecem um olhar diferente. Os gráficos ou não apresentaram qualquer relação espefíca com a taxa de sobrevivência ou não apresentaram de forma tão simples (o curioso formato de sino no gráfico de **SibSp**). Mas isso não significa que não haja relação. "
   ]
  },
  {
   "cell_type": "markdown",
   "id": "f1c97f32",
   "metadata": {
    "papermill": {
     "duration": 0.05066,
     "end_time": "2022-01-06T20:02:41.896765",
     "exception": false,
     "start_time": "2022-01-06T20:02:41.846105",
     "status": "completed"
    },
    "tags": []
   },
   "source": [
    "Vale a pena agora estudarmos também se existe algum tipo de correlação entre as variáveis. Isso permitirá que descartemos variáveis altamente correlacionadas em pról da simplicidade do modelo.\n",
    "\n",
    "Olhar para a matriz de correlação entre as variáveis pode ser importante para evitarmos multicolinearidade entre as variáveis preditoras."
   ]
  },
  {
   "cell_type": "code",
   "execution_count": 15,
   "id": "5867d94f",
   "metadata": {
    "execution": {
     "iopub.execute_input": "2022-01-06T20:02:41.999184Z",
     "iopub.status.busy": "2022-01-06T20:02:41.998516Z",
     "iopub.status.idle": "2022-01-06T20:02:42.424022Z",
     "shell.execute_reply": "2022-01-06T20:02:42.424459Z",
     "shell.execute_reply.started": "2022-01-06T19:46:33.030984Z"
    },
    "papermill": {
     "duration": 0.47824,
     "end_time": "2022-01-06T20:02:42.424652",
     "exception": false,
     "start_time": "2022-01-06T20:02:41.946412",
     "status": "completed"
    },
    "tags": []
   },
   "outputs": [
    {
     "data": {
      "text/plain": [
       "<AxesSubplot:>"
      ]
     },
     "execution_count": 15,
     "metadata": {},
     "output_type": "execute_result"
    },
    {
     "data": {
      "image/png": "[encoded data removed]",
      "text/plain": [
       "<Figure size 432x288 with 2 Axes>"
      ]
     },
     "metadata": {},
     "output_type": "display_data"
    }
   ],
   "source": [
    "sns.heatmap(train[['Survived', \n",
    "                   'Pclass', \n",
    "                   'Sex', \n",
    "                   'Age', \n",
    "                   'SibSp',\n",
    "                   'Parch', \n",
    "                   'Fare', \n",
    "                   'Embarked',\n",
    "                   'Sector']].corr(), vmin=-1, vmax=1, annot=True)"
   ]
  },
  {
   "cell_type": "markdown",
   "id": "0494576a",
   "metadata": {
    "papermill": {
     "duration": 0.050662,
     "end_time": "2022-01-06T20:02:42.526415",
     "exception": false,
     "start_time": "2022-01-06T20:02:42.475753",
     "status": "completed"
    },
    "tags": []
   },
   "source": [
    "Pela matriz notamos que algumas variáveis de fato possuem correlações significativas com outras. No entanto, nada forte o suficiente para podermos descartar alguma do modelo à priori."
   ]
  },
  {
   "cell_type": "markdown",
   "id": "502abb5f",
   "metadata": {
    "papermill": {
     "duration": 0.051011,
     "end_time": "2022-01-06T20:02:42.628943",
     "exception": false,
     "start_time": "2022-01-06T20:02:42.577932",
     "status": "completed"
    },
    "tags": []
   },
   "source": [
    "Apartir das nossas análises exploratórias podemos agora escolher quais variáveis preditoras serão usadas. \n",
    "\n",
    "Um doas aspectos mais importantes para serem levados em consideração aqui é o número de dados disponíveis em cada categoria. Por exemplo, apenas **147** passageiros do banco de dados possuem informação da cabine usada, de um total de **891** passageiros. Significando que se decidirmos usar essa variável teremos de trabalhar apenas com **16%** do banco de dados originais.\n",
    "\n",
    "Além disso, algumas das colunas do grupo de dados são irrelevantes para o processo de classificação. Afinal, o nome de um passageiro não terá efeito se ele irá sobreviver ou não.\n",
    "\n",
    "Dito isso, vamos iniciar nossa análise considerando apenas as seguintes variáveis preditoras: ***Pclass, Sex, Age, Fare, Embarked***"
   ]
  },
  {
   "cell_type": "code",
   "execution_count": 16,
   "id": "8937d372",
   "metadata": {
    "execution": {
     "iopub.execute_input": "2022-01-06T20:02:42.739148Z",
     "iopub.status.busy": "2022-01-06T20:02:42.738476Z",
     "iopub.status.idle": "2022-01-06T20:02:42.739902Z",
     "shell.execute_reply": "2022-01-06T20:02:42.740386Z",
     "shell.execute_reply.started": "2022-01-06T19:46:33.581365Z"
    },
    "papermill": {
     "duration": 0.059651,
     "end_time": "2022-01-06T20:02:42.740557",
     "exception": false,
     "start_time": "2022-01-06T20:02:42.680906",
     "status": "completed"
    },
    "tags": []
   },
   "outputs": [],
   "source": [
    "train = train[['Survived', 'Pclass', 'Sex', 'Age', 'Fare', 'Embarked']]"
   ]
  },
  {
   "cell_type": "code",
   "execution_count": 17,
   "id": "674cb13c",
   "metadata": {
    "execution": {
     "iopub.execute_input": "2022-01-06T20:02:42.851362Z",
     "iopub.status.busy": "2022-01-06T20:02:42.850613Z",
     "iopub.status.idle": "2022-01-06T20:02:42.853747Z",
     "shell.execute_reply": "2022-01-06T20:02:42.854301Z",
     "shell.execute_reply.started": "2022-01-06T19:46:33.590910Z"
    },
    "papermill": {
     "duration": 0.062461,
     "end_time": "2022-01-06T20:02:42.854476",
     "exception": false,
     "start_time": "2022-01-06T20:02:42.792015",
     "status": "completed"
    },
    "tags": []
   },
   "outputs": [
    {
     "name": "stdout",
     "output_type": "stream",
     "text": [
      "Survived : False\n",
      "Pclass : False\n",
      "Sex : False\n",
      "Age : True\n",
      "Fare : False\n",
      "Embarked : True\n"
     ]
    }
   ],
   "source": [
    "for column in train.columns:\n",
    "    print('{} : {}'.format(column, train[column].isnull().values.any()))"
   ]
  },
  {
   "cell_type": "markdown",
   "id": "d63504f2",
   "metadata": {
    "papermill": {
     "duration": 0.050012,
     "end_time": "2022-01-06T20:02:42.955286",
     "exception": false,
     "start_time": "2022-01-06T20:02:42.905274",
     "status": "completed"
    },
    "tags": []
   },
   "source": [
    "Vamos retirar todas as linhas do banco de dados com NAN. Caso nosso conjunto de dados restantes sejam insuficientes para a análise, posteriormente, podemos retornar aos dados originais e avaliar se os dados faltantes são passíveis de substituição."
   ]
  },
  {
   "cell_type": "code",
   "execution_count": 18,
   "id": "a95aa1ed",
   "metadata": {
    "execution": {
     "iopub.execute_input": "2022-01-06T20:02:43.063442Z",
     "iopub.status.busy": "2022-01-06T20:02:43.062784Z",
     "iopub.status.idle": "2022-01-06T20:02:43.066133Z",
     "shell.execute_reply": "2022-01-06T20:02:43.066614Z",
     "shell.execute_reply.started": "2022-01-06T19:46:33.609672Z"
    },
    "papermill": {
     "duration": 0.060226,
     "end_time": "2022-01-06T20:02:43.066830",
     "exception": false,
     "start_time": "2022-01-06T20:02:43.006604",
     "status": "completed"
    },
    "tags": []
   },
   "outputs": [],
   "source": [
    "train = train.dropna(how = 'any')"
   ]
  },
  {
   "cell_type": "code",
   "execution_count": 19,
   "id": "b1a1ec7d",
   "metadata": {
    "execution": {
     "iopub.execute_input": "2022-01-06T20:02:43.176184Z",
     "iopub.status.busy": "2022-01-06T20:02:43.175443Z",
     "iopub.status.idle": "2022-01-06T20:02:43.179184Z",
     "shell.execute_reply": "2022-01-06T20:02:43.178345Z",
     "shell.execute_reply.started": "2022-01-06T19:46:33.628039Z"
    },
    "papermill": {
     "duration": 0.060266,
     "end_time": "2022-01-06T20:02:43.179385",
     "exception": false,
     "start_time": "2022-01-06T20:02:43.119119",
     "status": "completed"
    },
    "tags": []
   },
   "outputs": [
    {
     "name": "stdout",
     "output_type": "stream",
     "text": [
      "(712, 6)\n"
     ]
    }
   ],
   "source": [
    "print(train.shape)"
   ]
  },
  {
   "cell_type": "markdown",
   "id": "2f3519f7",
   "metadata": {
    "execution": {
     "iopub.execute_input": "2022-01-04T18:40:51.360574Z",
     "iopub.status.busy": "2022-01-04T18:40:51.360244Z",
     "iopub.status.idle": "2022-01-04T18:40:51.386281Z",
     "shell.execute_reply": "2022-01-04T18:40:51.385221Z",
     "shell.execute_reply.started": "2022-01-04T18:40:51.360543Z"
    },
    "papermill": {
     "duration": 0.051888,
     "end_time": "2022-01-06T20:02:43.286310",
     "exception": false,
     "start_time": "2022-01-06T20:02:43.234422",
     "status": "completed"
    },
    "tags": []
   },
   "source": [
    "De fato perdemos dados do banco original, restando **712/891 = 80%** dos dados originais."
   ]
  },
  {
   "cell_type": "code",
   "execution_count": 20,
   "id": "9a1f440b",
   "metadata": {
    "execution": {
     "iopub.execute_input": "2022-01-06T20:02:43.397994Z",
     "iopub.status.busy": "2022-01-06T20:02:43.397286Z",
     "iopub.status.idle": "2022-01-06T20:02:43.429272Z",
     "shell.execute_reply": "2022-01-06T20:02:43.430079Z",
     "shell.execute_reply.started": "2022-01-06T19:46:33.638853Z"
    },
    "papermill": {
     "duration": 0.093184,
     "end_time": "2022-01-06T20:02:43.430364",
     "exception": false,
     "start_time": "2022-01-06T20:02:43.337180",
     "status": "completed"
    },
    "tags": []
   },
   "outputs": [
    {
     "data": {
      "text/html": [
       "<div>\n",
       "<style scoped>\n",
       "    .dataframe tbody tr th:only-of-type {\n",
       "        vertical-align: middle;\n",
       "    }\n",
       "\n",
       "    .dataframe tbody tr th {\n",
       "        vertical-align: top;\n",
       "    }\n",
       "\n",
       "    .dataframe thead th {\n",
       "        text-align: right;\n",
       "    }\n",
       "</style>\n",
       "<table border=\"1\" class=\"dataframe\">\n",
       "  <thead>\n",
       "    <tr style=\"text-align: right;\">\n",
       "      <th></th>\n",
       "      <th>Survived</th>\n",
       "      <th>Pclass</th>\n",
       "      <th>Age</th>\n",
       "      <th>Fare</th>\n",
       "    </tr>\n",
       "  </thead>\n",
       "  <tbody>\n",
       "    <tr>\n",
       "      <th>count</th>\n",
       "      <td>712.000000</td>\n",
       "      <td>712.000000</td>\n",
       "      <td>712.000000</td>\n",
       "      <td>712.000000</td>\n",
       "    </tr>\n",
       "    <tr>\n",
       "      <th>mean</th>\n",
       "      <td>0.404494</td>\n",
       "      <td>2.240169</td>\n",
       "      <td>29.642093</td>\n",
       "      <td>34.567251</td>\n",
       "    </tr>\n",
       "    <tr>\n",
       "      <th>std</th>\n",
       "      <td>0.491139</td>\n",
       "      <td>0.836854</td>\n",
       "      <td>14.492933</td>\n",
       "      <td>52.938648</td>\n",
       "    </tr>\n",
       "    <tr>\n",
       "      <th>min</th>\n",
       "      <td>0.000000</td>\n",
       "      <td>1.000000</td>\n",
       "      <td>0.420000</td>\n",
       "      <td>0.000000</td>\n",
       "    </tr>\n",
       "    <tr>\n",
       "      <th>25%</th>\n",
       "      <td>0.000000</td>\n",
       "      <td>1.000000</td>\n",
       "      <td>20.000000</td>\n",
       "      <td>8.050000</td>\n",
       "    </tr>\n",
       "    <tr>\n",
       "      <th>50%</th>\n",
       "      <td>0.000000</td>\n",
       "      <td>2.000000</td>\n",
       "      <td>28.000000</td>\n",
       "      <td>15.645850</td>\n",
       "    </tr>\n",
       "    <tr>\n",
       "      <th>75%</th>\n",
       "      <td>1.000000</td>\n",
       "      <td>3.000000</td>\n",
       "      <td>38.000000</td>\n",
       "      <td>33.000000</td>\n",
       "    </tr>\n",
       "    <tr>\n",
       "      <th>max</th>\n",
       "      <td>1.000000</td>\n",
       "      <td>3.000000</td>\n",
       "      <td>80.000000</td>\n",
       "      <td>512.329200</td>\n",
       "    </tr>\n",
       "  </tbody>\n",
       "</table>\n",
       "</div>"
      ],
      "text/plain": [
       "         Survived      Pclass         Age        Fare\n",
       "count  712.000000  712.000000  712.000000  712.000000\n",
       "mean     0.404494    2.240169   29.642093   34.567251\n",
       "std      0.491139    0.836854   14.492933   52.938648\n",
       "min      0.000000    1.000000    0.420000    0.000000\n",
       "25%      0.000000    1.000000   20.000000    8.050000\n",
       "50%      0.000000    2.000000   28.000000   15.645850\n",
       "75%      1.000000    3.000000   38.000000   33.000000\n",
       "max      1.000000    3.000000   80.000000  512.329200"
      ]
     },
     "execution_count": 20,
     "metadata": {},
     "output_type": "execute_result"
    }
   ],
   "source": [
    "train.describe()"
   ]
  },
  {
   "cell_type": "code",
   "execution_count": 21,
   "id": "5cb1ede4",
   "metadata": {
    "execution": {
     "iopub.execute_input": "2022-01-06T20:02:43.557731Z",
     "iopub.status.busy": "2022-01-06T20:02:43.557121Z",
     "iopub.status.idle": "2022-01-06T20:02:43.564174Z",
     "shell.execute_reply": "2022-01-06T20:02:43.564653Z",
     "shell.execute_reply.started": "2022-01-06T19:46:33.673506Z"
    },
    "papermill": {
     "duration": 0.066696,
     "end_time": "2022-01-06T20:02:43.564824",
     "exception": false,
     "start_time": "2022-01-06T20:02:43.498128",
     "status": "completed"
    },
    "tags": []
   },
   "outputs": [
    {
     "data": {
      "text/html": [
       "<div>\n",
       "<style scoped>\n",
       "    .dataframe tbody tr th:only-of-type {\n",
       "        vertical-align: middle;\n",
       "    }\n",
       "\n",
       "    .dataframe tbody tr th {\n",
       "        vertical-align: top;\n",
       "    }\n",
       "\n",
       "    .dataframe thead th {\n",
       "        text-align: right;\n",
       "    }\n",
       "</style>\n",
       "<table border=\"1\" class=\"dataframe\">\n",
       "  <thead>\n",
       "    <tr style=\"text-align: right;\">\n",
       "      <th></th>\n",
       "      <th>Survived</th>\n",
       "      <th>Pclass</th>\n",
       "      <th>Sex</th>\n",
       "      <th>Age</th>\n",
       "      <th>Fare</th>\n",
       "      <th>Embarked</th>\n",
       "    </tr>\n",
       "  </thead>\n",
       "  <tbody>\n",
       "    <tr>\n",
       "      <th>0</th>\n",
       "      <td>0</td>\n",
       "      <td>3</td>\n",
       "      <td>male</td>\n",
       "      <td>22.0</td>\n",
       "      <td>7.2500</td>\n",
       "      <td>S</td>\n",
       "    </tr>\n",
       "    <tr>\n",
       "      <th>1</th>\n",
       "      <td>1</td>\n",
       "      <td>1</td>\n",
       "      <td>female</td>\n",
       "      <td>38.0</td>\n",
       "      <td>71.2833</td>\n",
       "      <td>C</td>\n",
       "    </tr>\n",
       "    <tr>\n",
       "      <th>2</th>\n",
       "      <td>1</td>\n",
       "      <td>3</td>\n",
       "      <td>female</td>\n",
       "      <td>26.0</td>\n",
       "      <td>7.9250</td>\n",
       "      <td>S</td>\n",
       "    </tr>\n",
       "    <tr>\n",
       "      <th>3</th>\n",
       "      <td>1</td>\n",
       "      <td>1</td>\n",
       "      <td>female</td>\n",
       "      <td>35.0</td>\n",
       "      <td>53.1000</td>\n",
       "      <td>S</td>\n",
       "    </tr>\n",
       "    <tr>\n",
       "      <th>4</th>\n",
       "      <td>0</td>\n",
       "      <td>3</td>\n",
       "      <td>male</td>\n",
       "      <td>35.0</td>\n",
       "      <td>8.0500</td>\n",
       "      <td>S</td>\n",
       "    </tr>\n",
       "  </tbody>\n",
       "</table>\n",
       "</div>"
      ],
      "text/plain": [
       "   Survived  Pclass     Sex   Age     Fare Embarked\n",
       "0         0       3    male  22.0   7.2500        S\n",
       "1         1       1  female  38.0  71.2833        C\n",
       "2         1       3  female  26.0   7.9250        S\n",
       "3         1       1  female  35.0  53.1000        S\n",
       "4         0       3    male  35.0   8.0500        S"
      ]
     },
     "execution_count": 21,
     "metadata": {},
     "output_type": "execute_result"
    }
   ],
   "source": [
    "train.head()"
   ]
  },
  {
   "cell_type": "markdown",
   "id": "9b5acc2c",
   "metadata": {
    "execution": {
     "iopub.execute_input": "2022-01-04T19:16:32.619776Z",
     "iopub.status.busy": "2022-01-04T19:16:32.619455Z",
     "iopub.status.idle": "2022-01-04T19:16:32.626905Z",
     "shell.execute_reply": "2022-01-04T19:16:32.625792Z",
     "shell.execute_reply.started": "2022-01-04T19:16:32.619744Z"
    },
    "papermill": {
     "duration": 0.05117,
     "end_time": "2022-01-06T20:02:43.667988",
     "exception": false,
     "start_time": "2022-01-06T20:02:43.616818",
     "status": "completed"
    },
    "tags": []
   },
   "source": [
    "Note que temos **3** variáveis preditoras categóricas. Para trabalharmos com elas vamos convertê-las para dummy variables (0 e 1)."
   ]
  },
  {
   "cell_type": "code",
   "execution_count": 22,
   "id": "6a351ebe",
   "metadata": {
    "execution": {
     "iopub.execute_input": "2022-01-06T20:02:43.775974Z",
     "iopub.status.busy": "2022-01-06T20:02:43.775319Z",
     "iopub.status.idle": "2022-01-06T20:02:43.783726Z",
     "shell.execute_reply": "2022-01-06T20:02:43.783222Z",
     "shell.execute_reply.started": "2022-01-06T19:46:33.691797Z"
    },
    "papermill": {
     "duration": 0.064452,
     "end_time": "2022-01-06T20:02:43.783879",
     "exception": false,
     "start_time": "2022-01-06T20:02:43.719427",
     "status": "completed"
    },
    "tags": []
   },
   "outputs": [],
   "source": [
    "train = pd.get_dummies(train, columns = ['Pclass', 'Sex', 'Embarked'])"
   ]
  },
  {
   "cell_type": "code",
   "execution_count": 23,
   "id": "9ea7b4f9",
   "metadata": {
    "execution": {
     "iopub.execute_input": "2022-01-06T20:02:43.903257Z",
     "iopub.status.busy": "2022-01-06T20:02:43.902561Z",
     "iopub.status.idle": "2022-01-06T20:02:43.905962Z",
     "shell.execute_reply": "2022-01-06T20:02:43.906454Z",
     "shell.execute_reply.started": "2022-01-06T19:46:33.706348Z"
    },
    "papermill": {
     "duration": 0.069749,
     "end_time": "2022-01-06T20:02:43.906640",
     "exception": false,
     "start_time": "2022-01-06T20:02:43.836891",
     "status": "completed"
    },
    "tags": []
   },
   "outputs": [
    {
     "data": {
      "text/html": [
       "<div>\n",
       "<style scoped>\n",
       "    .dataframe tbody tr th:only-of-type {\n",
       "        vertical-align: middle;\n",
       "    }\n",
       "\n",
       "    .dataframe tbody tr th {\n",
       "        vertical-align: top;\n",
       "    }\n",
       "\n",
       "    .dataframe thead th {\n",
       "        text-align: right;\n",
       "    }\n",
       "</style>\n",
       "<table border=\"1\" class=\"dataframe\">\n",
       "  <thead>\n",
       "    <tr style=\"text-align: right;\">\n",
       "      <th></th>\n",
       "      <th>Survived</th>\n",
       "      <th>Age</th>\n",
       "      <th>Fare</th>\n",
       "      <th>Pclass_1</th>\n",
       "      <th>Pclass_2</th>\n",
       "      <th>Pclass_3</th>\n",
       "      <th>Sex_female</th>\n",
       "      <th>Sex_male</th>\n",
       "      <th>Embarked_C</th>\n",
       "      <th>Embarked_Q</th>\n",
       "      <th>Embarked_S</th>\n",
       "    </tr>\n",
       "  </thead>\n",
       "  <tbody>\n",
       "    <tr>\n",
       "      <th>0</th>\n",
       "      <td>0</td>\n",
       "      <td>22.0</td>\n",
       "      <td>7.2500</td>\n",
       "      <td>0</td>\n",
       "      <td>0</td>\n",
       "      <td>1</td>\n",
       "      <td>0</td>\n",
       "      <td>1</td>\n",
       "      <td>0</td>\n",
       "      <td>0</td>\n",
       "      <td>1</td>\n",
       "    </tr>\n",
       "    <tr>\n",
       "      <th>1</th>\n",
       "      <td>1</td>\n",
       "      <td>38.0</td>\n",
       "      <td>71.2833</td>\n",
       "      <td>1</td>\n",
       "      <td>0</td>\n",
       "      <td>0</td>\n",
       "      <td>1</td>\n",
       "      <td>0</td>\n",
       "      <td>1</td>\n",
       "      <td>0</td>\n",
       "      <td>0</td>\n",
       "    </tr>\n",
       "    <tr>\n",
       "      <th>2</th>\n",
       "      <td>1</td>\n",
       "      <td>26.0</td>\n",
       "      <td>7.9250</td>\n",
       "      <td>0</td>\n",
       "      <td>0</td>\n",
       "      <td>1</td>\n",
       "      <td>1</td>\n",
       "      <td>0</td>\n",
       "      <td>0</td>\n",
       "      <td>0</td>\n",
       "      <td>1</td>\n",
       "    </tr>\n",
       "    <tr>\n",
       "      <th>3</th>\n",
       "      <td>1</td>\n",
       "      <td>35.0</td>\n",
       "      <td>53.1000</td>\n",
       "      <td>1</td>\n",
       "      <td>0</td>\n",
       "      <td>0</td>\n",
       "      <td>1</td>\n",
       "      <td>0</td>\n",
       "      <td>0</td>\n",
       "      <td>0</td>\n",
       "      <td>1</td>\n",
       "    </tr>\n",
       "    <tr>\n",
       "      <th>4</th>\n",
       "      <td>0</td>\n",
       "      <td>35.0</td>\n",
       "      <td>8.0500</td>\n",
       "      <td>0</td>\n",
       "      <td>0</td>\n",
       "      <td>1</td>\n",
       "      <td>0</td>\n",
       "      <td>1</td>\n",
       "      <td>0</td>\n",
       "      <td>0</td>\n",
       "      <td>1</td>\n",
       "    </tr>\n",
       "  </tbody>\n",
       "</table>\n",
       "</div>"
      ],
      "text/plain": [
       "   Survived   Age     Fare  Pclass_1  Pclass_2  Pclass_3  Sex_female  \\\n",
       "0         0  22.0   7.2500         0         0         1           0   \n",
       "1         1  38.0  71.2833         1         0         0           1   \n",
       "2         1  26.0   7.9250         0         0         1           1   \n",
       "3         1  35.0  53.1000         1         0         0           1   \n",
       "4         0  35.0   8.0500         0         0         1           0   \n",
       "\n",
       "   Sex_male  Embarked_C  Embarked_Q  Embarked_S  \n",
       "0         1           0           0           1  \n",
       "1         0           1           0           0  \n",
       "2         0           0           0           1  \n",
       "3         0           0           0           1  \n",
       "4         1           0           0           1  "
      ]
     },
     "execution_count": 23,
     "metadata": {},
     "output_type": "execute_result"
    }
   ],
   "source": [
    "train.head()"
   ]
  },
  {
   "cell_type": "markdown",
   "id": "6e4eb7ea",
   "metadata": {
    "papermill": {
     "duration": 0.053055,
     "end_time": "2022-01-06T20:02:44.012030",
     "exception": false,
     "start_time": "2022-01-06T20:02:43.958975",
     "status": "completed"
    },
    "tags": []
   },
   "source": [
    "Para finalizar a preparação vamos arrumar também os dados para teste.\n",
    "\n",
    "No entanto, aqui devemos tomar cuidado. Esse conjunto de dados é o conjunto de passageiros que devemos realizar a previsão com nosso modelo futuro, para todo e qualquer passageiro nele! Ou seja, não podemos simplesmente remover os passageiros com valores faltantes como fizemos com nosso conjunto de treino."
   ]
  },
  {
   "cell_type": "code",
   "execution_count": 24,
   "id": "6efe4949",
   "metadata": {
    "execution": {
     "iopub.execute_input": "2022-01-06T20:02:44.123817Z",
     "iopub.status.busy": "2022-01-06T20:02:44.121006Z",
     "iopub.status.idle": "2022-01-06T20:02:44.162461Z",
     "shell.execute_reply": "2022-01-06T20:02:44.162904Z",
     "shell.execute_reply.started": "2022-01-06T19:46:33.730705Z"
    },
    "papermill": {
     "duration": 0.097737,
     "end_time": "2022-01-06T20:02:44.163086",
     "exception": false,
     "start_time": "2022-01-06T20:02:44.065349",
     "status": "completed"
    },
    "tags": []
   },
   "outputs": [
    {
     "data": {
      "text/html": [
       "<div>\n",
       "<style scoped>\n",
       "    .dataframe tbody tr th:only-of-type {\n",
       "        vertical-align: middle;\n",
       "    }\n",
       "\n",
       "    .dataframe tbody tr th {\n",
       "        vertical-align: top;\n",
       "    }\n",
       "\n",
       "    .dataframe thead th {\n",
       "        text-align: right;\n",
       "    }\n",
       "</style>\n",
       "<table border=\"1\" class=\"dataframe\">\n",
       "  <thead>\n",
       "    <tr style=\"text-align: right;\">\n",
       "      <th></th>\n",
       "      <th>PassengerId</th>\n",
       "      <th>Age</th>\n",
       "      <th>Fare</th>\n",
       "      <th>Pclass_1</th>\n",
       "      <th>Pclass_2</th>\n",
       "      <th>Pclass_3</th>\n",
       "      <th>Sex_female</th>\n",
       "      <th>Sex_male</th>\n",
       "      <th>Embarked_C</th>\n",
       "      <th>Embarked_Q</th>\n",
       "      <th>Embarked_S</th>\n",
       "    </tr>\n",
       "  </thead>\n",
       "  <tbody>\n",
       "    <tr>\n",
       "      <th>count</th>\n",
       "      <td>418.000000</td>\n",
       "      <td>332.000000</td>\n",
       "      <td>417.000000</td>\n",
       "      <td>418.000000</td>\n",
       "      <td>418.000000</td>\n",
       "      <td>418.000000</td>\n",
       "      <td>418.000000</td>\n",
       "      <td>418.000000</td>\n",
       "      <td>418.000000</td>\n",
       "      <td>418.000000</td>\n",
       "      <td>418.000000</td>\n",
       "    </tr>\n",
       "    <tr>\n",
       "      <th>mean</th>\n",
       "      <td>1100.500000</td>\n",
       "      <td>30.272590</td>\n",
       "      <td>35.627188</td>\n",
       "      <td>0.255981</td>\n",
       "      <td>0.222488</td>\n",
       "      <td>0.521531</td>\n",
       "      <td>0.363636</td>\n",
       "      <td>0.636364</td>\n",
       "      <td>0.244019</td>\n",
       "      <td>0.110048</td>\n",
       "      <td>0.645933</td>\n",
       "    </tr>\n",
       "    <tr>\n",
       "      <th>std</th>\n",
       "      <td>120.810458</td>\n",
       "      <td>14.181209</td>\n",
       "      <td>55.907576</td>\n",
       "      <td>0.436934</td>\n",
       "      <td>0.416416</td>\n",
       "      <td>0.500135</td>\n",
       "      <td>0.481622</td>\n",
       "      <td>0.481622</td>\n",
       "      <td>0.430019</td>\n",
       "      <td>0.313324</td>\n",
       "      <td>0.478803</td>\n",
       "    </tr>\n",
       "    <tr>\n",
       "      <th>min</th>\n",
       "      <td>892.000000</td>\n",
       "      <td>0.170000</td>\n",
       "      <td>0.000000</td>\n",
       "      <td>0.000000</td>\n",
       "      <td>0.000000</td>\n",
       "      <td>0.000000</td>\n",
       "      <td>0.000000</td>\n",
       "      <td>0.000000</td>\n",
       "      <td>0.000000</td>\n",
       "      <td>0.000000</td>\n",
       "      <td>0.000000</td>\n",
       "    </tr>\n",
       "    <tr>\n",
       "      <th>25%</th>\n",
       "      <td>996.250000</td>\n",
       "      <td>21.000000</td>\n",
       "      <td>7.895800</td>\n",
       "      <td>0.000000</td>\n",
       "      <td>0.000000</td>\n",
       "      <td>0.000000</td>\n",
       "      <td>0.000000</td>\n",
       "      <td>0.000000</td>\n",
       "      <td>0.000000</td>\n",
       "      <td>0.000000</td>\n",
       "      <td>0.000000</td>\n",
       "    </tr>\n",
       "    <tr>\n",
       "      <th>50%</th>\n",
       "      <td>1100.500000</td>\n",
       "      <td>27.000000</td>\n",
       "      <td>14.454200</td>\n",
       "      <td>0.000000</td>\n",
       "      <td>0.000000</td>\n",
       "      <td>1.000000</td>\n",
       "      <td>0.000000</td>\n",
       "      <td>1.000000</td>\n",
       "      <td>0.000000</td>\n",
       "      <td>0.000000</td>\n",
       "      <td>1.000000</td>\n",
       "    </tr>\n",
       "    <tr>\n",
       "      <th>75%</th>\n",
       "      <td>1204.750000</td>\n",
       "      <td>39.000000</td>\n",
       "      <td>31.500000</td>\n",
       "      <td>1.000000</td>\n",
       "      <td>0.000000</td>\n",
       "      <td>1.000000</td>\n",
       "      <td>1.000000</td>\n",
       "      <td>1.000000</td>\n",
       "      <td>0.000000</td>\n",
       "      <td>0.000000</td>\n",
       "      <td>1.000000</td>\n",
       "    </tr>\n",
       "    <tr>\n",
       "      <th>max</th>\n",
       "      <td>1309.000000</td>\n",
       "      <td>76.000000</td>\n",
       "      <td>512.329200</td>\n",
       "      <td>1.000000</td>\n",
       "      <td>1.000000</td>\n",
       "      <td>1.000000</td>\n",
       "      <td>1.000000</td>\n",
       "      <td>1.000000</td>\n",
       "      <td>1.000000</td>\n",
       "      <td>1.000000</td>\n",
       "      <td>1.000000</td>\n",
       "    </tr>\n",
       "  </tbody>\n",
       "</table>\n",
       "</div>"
      ],
      "text/plain": [
       "       PassengerId         Age        Fare    Pclass_1    Pclass_2  \\\n",
       "count   418.000000  332.000000  417.000000  418.000000  418.000000   \n",
       "mean   1100.500000   30.272590   35.627188    0.255981    0.222488   \n",
       "std     120.810458   14.181209   55.907576    0.436934    0.416416   \n",
       "min     892.000000    0.170000    0.000000    0.000000    0.000000   \n",
       "25%     996.250000   21.000000    7.895800    0.000000    0.000000   \n",
       "50%    1100.500000   27.000000   14.454200    0.000000    0.000000   \n",
       "75%    1204.750000   39.000000   31.500000    1.000000    0.000000   \n",
       "max    1309.000000   76.000000  512.329200    1.000000    1.000000   \n",
       "\n",
       "         Pclass_3  Sex_female    Sex_male  Embarked_C  Embarked_Q  Embarked_S  \n",
       "count  418.000000  418.000000  418.000000  418.000000  418.000000  418.000000  \n",
       "mean     0.521531    0.363636    0.636364    0.244019    0.110048    0.645933  \n",
       "std      0.500135    0.481622    0.481622    0.430019    0.313324    0.478803  \n",
       "min      0.000000    0.000000    0.000000    0.000000    0.000000    0.000000  \n",
       "25%      0.000000    0.000000    0.000000    0.000000    0.000000    0.000000  \n",
       "50%      1.000000    0.000000    1.000000    0.000000    0.000000    1.000000  \n",
       "75%      1.000000    1.000000    1.000000    0.000000    0.000000    1.000000  \n",
       "max      1.000000    1.000000    1.000000    1.000000    1.000000    1.000000  "
      ]
     },
     "execution_count": 24,
     "metadata": {},
     "output_type": "execute_result"
    }
   ],
   "source": [
    "test = test[['PassengerId','Pclass', 'Sex', 'Age', 'Fare', 'Embarked']]\n",
    "\n",
    "#test = test.dropna(how = 'any')\n",
    "test = pd.get_dummies(test, columns = ['Pclass', 'Sex', 'Embarked'])\n",
    "\n",
    "test.describe()"
   ]
  },
  {
   "cell_type": "markdown",
   "id": "93beaa92",
   "metadata": {
    "papermill": {
     "duration": 0.051695,
     "end_time": "2022-01-06T20:02:44.266900",
     "exception": false,
     "start_time": "2022-01-06T20:02:44.215205",
     "status": "completed"
    },
    "tags": []
   },
   "source": [
    "E note que, no conjunto de teste, **86 (418 - 332)** passageiros possuem dados sobre a sua idade (**Age**) faltando, assim como um passageiros não possui informação sobre a taxa paga (**Fare**)."
   ]
  },
  {
   "cell_type": "code",
   "execution_count": 25,
   "id": "746b946a",
   "metadata": {
    "execution": {
     "iopub.execute_input": "2022-01-06T20:02:44.375458Z",
     "iopub.status.busy": "2022-01-06T20:02:44.374557Z",
     "iopub.status.idle": "2022-01-06T20:02:44.386357Z",
     "shell.execute_reply": "2022-01-06T20:02:44.386903Z",
     "shell.execute_reply.started": "2022-01-06T19:46:33.787788Z"
    },
    "papermill": {
     "duration": 0.067268,
     "end_time": "2022-01-06T20:02:44.387068",
     "exception": false,
     "start_time": "2022-01-06T20:02:44.319800",
     "status": "completed"
    },
    "tags": []
   },
   "outputs": [
    {
     "data": {
      "text/html": [
       "<div>\n",
       "<style scoped>\n",
       "    .dataframe tbody tr th:only-of-type {\n",
       "        vertical-align: middle;\n",
       "    }\n",
       "\n",
       "    .dataframe tbody tr th {\n",
       "        vertical-align: top;\n",
       "    }\n",
       "\n",
       "    .dataframe thead th {\n",
       "        text-align: right;\n",
       "    }\n",
       "</style>\n",
       "<table border=\"1\" class=\"dataframe\">\n",
       "  <thead>\n",
       "    <tr style=\"text-align: right;\">\n",
       "      <th></th>\n",
       "      <th>PassengerId</th>\n",
       "      <th>Age</th>\n",
       "      <th>Fare</th>\n",
       "      <th>Pclass_1</th>\n",
       "      <th>Pclass_2</th>\n",
       "      <th>Pclass_3</th>\n",
       "      <th>Sex_female</th>\n",
       "      <th>Sex_male</th>\n",
       "      <th>Embarked_C</th>\n",
       "      <th>Embarked_Q</th>\n",
       "      <th>Embarked_S</th>\n",
       "    </tr>\n",
       "  </thead>\n",
       "  <tbody>\n",
       "    <tr>\n",
       "      <th>0</th>\n",
       "      <td>892</td>\n",
       "      <td>34.5</td>\n",
       "      <td>7.8292</td>\n",
       "      <td>0</td>\n",
       "      <td>0</td>\n",
       "      <td>1</td>\n",
       "      <td>0</td>\n",
       "      <td>1</td>\n",
       "      <td>0</td>\n",
       "      <td>1</td>\n",
       "      <td>0</td>\n",
       "    </tr>\n",
       "    <tr>\n",
       "      <th>1</th>\n",
       "      <td>893</td>\n",
       "      <td>47.0</td>\n",
       "      <td>7.0000</td>\n",
       "      <td>0</td>\n",
       "      <td>0</td>\n",
       "      <td>1</td>\n",
       "      <td>1</td>\n",
       "      <td>0</td>\n",
       "      <td>0</td>\n",
       "      <td>0</td>\n",
       "      <td>1</td>\n",
       "    </tr>\n",
       "    <tr>\n",
       "      <th>2</th>\n",
       "      <td>894</td>\n",
       "      <td>62.0</td>\n",
       "      <td>9.6875</td>\n",
       "      <td>0</td>\n",
       "      <td>1</td>\n",
       "      <td>0</td>\n",
       "      <td>0</td>\n",
       "      <td>1</td>\n",
       "      <td>0</td>\n",
       "      <td>1</td>\n",
       "      <td>0</td>\n",
       "    </tr>\n",
       "    <tr>\n",
       "      <th>3</th>\n",
       "      <td>895</td>\n",
       "      <td>27.0</td>\n",
       "      <td>8.6625</td>\n",
       "      <td>0</td>\n",
       "      <td>0</td>\n",
       "      <td>1</td>\n",
       "      <td>0</td>\n",
       "      <td>1</td>\n",
       "      <td>0</td>\n",
       "      <td>0</td>\n",
       "      <td>1</td>\n",
       "    </tr>\n",
       "    <tr>\n",
       "      <th>4</th>\n",
       "      <td>896</td>\n",
       "      <td>22.0</td>\n",
       "      <td>12.2875</td>\n",
       "      <td>0</td>\n",
       "      <td>0</td>\n",
       "      <td>1</td>\n",
       "      <td>1</td>\n",
       "      <td>0</td>\n",
       "      <td>0</td>\n",
       "      <td>0</td>\n",
       "      <td>1</td>\n",
       "    </tr>\n",
       "  </tbody>\n",
       "</table>\n",
       "</div>"
      ],
      "text/plain": [
       "   PassengerId   Age     Fare  Pclass_1  Pclass_2  Pclass_3  Sex_female  \\\n",
       "0          892  34.5   7.8292         0         0         1           0   \n",
       "1          893  47.0   7.0000         0         0         1           1   \n",
       "2          894  62.0   9.6875         0         1         0           0   \n",
       "3          895  27.0   8.6625         0         0         1           0   \n",
       "4          896  22.0  12.2875         0         0         1           1   \n",
       "\n",
       "   Sex_male  Embarked_C  Embarked_Q  Embarked_S  \n",
       "0         1           0           1           0  \n",
       "1         0           0           0           1  \n",
       "2         1           0           1           0  \n",
       "3         1           0           0           1  \n",
       "4         0           0           0           1  "
      ]
     },
     "execution_count": 25,
     "metadata": {},
     "output_type": "execute_result"
    }
   ],
   "source": [
    "test.head()"
   ]
  },
  {
   "cell_type": "markdown",
   "id": "6cee6ab2",
   "metadata": {
    "papermill": {
     "duration": 0.052894,
     "end_time": "2022-01-06T20:02:44.494900",
     "exception": false,
     "start_time": "2022-01-06T20:02:44.442006",
     "status": "completed"
    },
    "tags": []
   },
   "source": [
    "Para podermos avaliar a capacidade de cada modelo vamos separar mais os dados de treino. Deixando uma parte deles para verificar os resultados. "
   ]
  },
  {
   "cell_type": "code",
   "execution_count": 26,
   "id": "2d40437e",
   "metadata": {
    "execution": {
     "iopub.execute_input": "2022-01-06T20:02:44.604265Z",
     "iopub.status.busy": "2022-01-06T20:02:44.603308Z",
     "iopub.status.idle": "2022-01-06T20:02:44.625121Z",
     "shell.execute_reply": "2022-01-06T20:02:44.625609Z",
     "shell.execute_reply.started": "2022-01-06T19:46:33.804402Z"
    },
    "papermill": {
     "duration": 0.078328,
     "end_time": "2022-01-06T20:02:44.625803",
     "exception": false,
     "start_time": "2022-01-06T20:02:44.547475",
     "status": "completed"
    },
    "tags": []
   },
   "outputs": [],
   "source": [
    "from sklearn.model_selection import train_test_split\n",
    "Xtrain, Xtest, ytrain, ytest = train_test_split(train.drop('Survived', axis=1), train.Survived, random_state = 0)"
   ]
  },
  {
   "cell_type": "markdown",
   "id": "12215cf8",
   "metadata": {
    "execution": {
     "iopub.execute_input": "2022-01-04T21:27:25.01923Z",
     "iopub.status.busy": "2022-01-04T21:27:25.018715Z",
     "iopub.status.idle": "2022-01-04T21:27:25.025581Z",
     "shell.execute_reply": "2022-01-04T21:27:25.024677Z",
     "shell.execute_reply.started": "2022-01-04T21:27:25.019194Z"
    },
    "papermill": {
     "duration": 0.052341,
     "end_time": "2022-01-06T20:02:44.730945",
     "exception": false,
     "start_time": "2022-01-06T20:02:44.678604",
     "status": "completed"
    },
    "tags": []
   },
   "source": [
    "Agora estamos prontos para fazermos nossas análises"
   ]
  },
  {
   "cell_type": "markdown",
   "id": "d58f8605",
   "metadata": {
    "papermill": {
     "duration": 0.052715,
     "end_time": "2022-01-06T20:02:44.836838",
     "exception": false,
     "start_time": "2022-01-06T20:02:44.784123",
     "status": "completed"
    },
    "tags": []
   },
   "source": [
    "# Análise e Classificação"
   ]
  },
  {
   "cell_type": "markdown",
   "id": "5e124c58",
   "metadata": {
    "papermill": {
     "duration": 0.052336,
     "end_time": "2022-01-06T20:02:44.941771",
     "exception": false,
     "start_time": "2022-01-06T20:02:44.889435",
     "status": "completed"
    },
    "tags": []
   },
   "source": [
    "Afim de obtermos o melhor output vamos treinar diversos modelos iniciando por um modelo de *decision tree*, passando por *random forests*, *support vector machines*, *naive bayes* e por fim *logistic regression*."
   ]
  },
  {
   "cell_type": "code",
   "execution_count": 27,
   "id": "c5c11c33",
   "metadata": {
    "execution": {
     "iopub.execute_input": "2022-01-06T20:02:45.052074Z",
     "iopub.status.busy": "2022-01-06T20:02:45.051130Z",
     "iopub.status.idle": "2022-01-06T20:02:45.216594Z",
     "shell.execute_reply": "2022-01-06T20:02:45.217026Z",
     "shell.execute_reply.started": "2022-01-06T19:46:33.844058Z"
    },
    "papermill": {
     "duration": 0.222368,
     "end_time": "2022-01-06T20:02:45.217199",
     "exception": false,
     "start_time": "2022-01-06T20:02:44.994831",
     "status": "completed"
    },
    "tags": []
   },
   "outputs": [
    {
     "data": {
      "text/plain": [
       "0.7640449438202247"
      ]
     },
     "execution_count": 27,
     "metadata": {},
     "output_type": "execute_result"
    }
   ],
   "source": [
    "# DECISION TREE\n",
    "from sklearn.tree import DecisionTreeClassifier\n",
    "\n",
    "tree_model = DecisionTreeClassifier().fit(Xtrain, ytrain)\n",
    "\n",
    "tree_predictions = tree_model.predict(Xtest)\n",
    "\n",
    "tree_model.score(Xtest, ytest)"
   ]
  },
  {
   "cell_type": "code",
   "execution_count": 28,
   "id": "6b891f04",
   "metadata": {
    "execution": {
     "iopub.execute_input": "2022-01-06T20:02:45.329049Z",
     "iopub.status.busy": "2022-01-06T20:02:45.327829Z",
     "iopub.status.idle": "2022-01-06T20:02:45.538172Z",
     "shell.execute_reply": "2022-01-06T20:02:45.537308Z",
     "shell.execute_reply.started": "2022-01-06T19:46:34.056445Z"
    },
    "papermill": {
     "duration": 0.268438,
     "end_time": "2022-01-06T20:02:45.538319",
     "exception": false,
     "start_time": "2022-01-06T20:02:45.269881",
     "status": "completed"
    },
    "tags": []
   },
   "outputs": [
    {
     "data": {
      "text/plain": [
       "0.797752808988764"
      ]
     },
     "execution_count": 28,
     "metadata": {},
     "output_type": "execute_result"
    }
   ],
   "source": [
    "# RANDOM FOREST\n",
    "from sklearn.ensemble import RandomForestClassifier\n",
    "\n",
    "forest_model = RandomForestClassifier(n_estimators = 100).fit(Xtrain, ytrain)\n",
    "\n",
    "forest_predictions = forest_model.predict(Xtest)\n",
    "\n",
    "forest_model.score(Xtest, ytest)"
   ]
  },
  {
   "cell_type": "code",
   "execution_count": 29,
   "id": "3bf5c5c3",
   "metadata": {
    "execution": {
     "iopub.execute_input": "2022-01-06T20:02:45.650079Z",
     "iopub.status.busy": "2022-01-06T20:02:45.649110Z",
     "iopub.status.idle": "2022-01-06T20:02:45.661066Z",
     "shell.execute_reply": "2022-01-06T20:02:45.661566Z",
     "shell.execute_reply.started": "2022-01-06T19:46:34.353633Z"
    },
    "papermill": {
     "duration": 0.069343,
     "end_time": "2022-01-06T20:02:45.661762",
     "exception": false,
     "start_time": "2022-01-06T20:02:45.592419",
     "status": "completed"
    },
    "tags": []
   },
   "outputs": [
    {
     "data": {
      "text/plain": [
       "0.8033707865168539"
      ]
     },
     "execution_count": 29,
     "metadata": {},
     "output_type": "execute_result"
    }
   ],
   "source": [
    "# LOGISTIC REGRESSION\n",
    "from sklearn.linear_model import LogisticRegression\n",
    "\n",
    "logistic_model = LogisticRegression(solver='liblinear').fit(Xtrain, ytrain)\n",
    "\n",
    "logistic_predictions = logistic_model.predict(Xtest)\n",
    "\n",
    "logistic_model.score(Xtest, ytest)"
   ]
  },
  {
   "cell_type": "code",
   "execution_count": 30,
   "id": "028d1496",
   "metadata": {
    "execution": {
     "iopub.execute_input": "2022-01-06T20:02:45.776056Z",
     "iopub.status.busy": "2022-01-06T20:02:45.775123Z",
     "iopub.status.idle": "2022-01-06T20:02:52.779572Z",
     "shell.execute_reply": "2022-01-06T20:02:52.779111Z",
     "shell.execute_reply.started": "2022-01-06T19:46:34.376252Z"
    },
    "papermill": {
     "duration": 7.064472,
     "end_time": "2022-01-06T20:02:52.779735",
     "exception": false,
     "start_time": "2022-01-06T20:02:45.715263",
     "status": "completed"
    },
    "tags": []
   },
   "outputs": [
    {
     "data": {
      "text/plain": [
       "0.7696629213483146"
      ]
     },
     "execution_count": 30,
     "metadata": {},
     "output_type": "execute_result"
    }
   ],
   "source": [
    "# SUPPORT VECTOR MACHINE LINEAR KERNEL\n",
    "from sklearn import svm\n",
    "\n",
    "svm_model = svm.SVC(kernel='linear').fit(Xtrain, ytrain)\n",
    "\n",
    "svm_predictions = svm_model.predict(Xtest)\n",
    "\n",
    "svm_model.score(Xtest, ytest)"
   ]
  },
  {
   "cell_type": "code",
   "execution_count": 31,
   "id": "8908a8b0",
   "metadata": {
    "execution": {
     "iopub.execute_input": "2022-01-06T20:02:52.892354Z",
     "iopub.status.busy": "2022-01-06T20:02:52.891718Z",
     "iopub.status.idle": "2022-01-06T20:02:52.905147Z",
     "shell.execute_reply": "2022-01-06T20:02:52.905665Z",
     "shell.execute_reply.started": "2022-01-06T19:46:41.378873Z"
    },
    "papermill": {
     "duration": 0.071563,
     "end_time": "2022-01-06T20:02:52.905847",
     "exception": false,
     "start_time": "2022-01-06T20:02:52.834284",
     "status": "completed"
    },
    "tags": []
   },
   "outputs": [
    {
     "data": {
      "text/plain": [
       "0.7640449438202247"
      ]
     },
     "execution_count": 31,
     "metadata": {},
     "output_type": "execute_result"
    }
   ],
   "source": [
    "# NAIVE BAYES GAUSSIAN\n",
    "from sklearn.naive_bayes import GaussianNB\n",
    "\n",
    "bayes_model = GaussianNB().fit(Xtrain, ytrain)\n",
    "bayes_predictions = bayes_model.predict(Xtest)\n",
    "\n",
    "bayes_model.score(Xtest, ytest)"
   ]
  },
  {
   "cell_type": "markdown",
   "id": "343fdaf7",
   "metadata": {
    "papermill": {
     "duration": 0.056423,
     "end_time": "2022-01-06T20:02:53.017121",
     "exception": false,
     "start_time": "2022-01-06T20:02:52.960698",
     "status": "completed"
    },
    "tags": []
   },
   "source": [
    "Afim de avaliarmos efetivamente a capacidade dos modelos vamos avaliar a curva ROC para cada um. "
   ]
  },
  {
   "cell_type": "code",
   "execution_count": 32,
   "id": "63afb374",
   "metadata": {
    "execution": {
     "iopub.execute_input": "2022-01-06T20:02:53.130751Z",
     "iopub.status.busy": "2022-01-06T20:02:53.130159Z",
     "iopub.status.idle": "2022-01-06T20:02:53.398139Z",
     "shell.execute_reply": "2022-01-06T20:02:53.397598Z",
     "shell.execute_reply.started": "2022-01-06T19:46:41.399923Z"
    },
    "papermill": {
     "duration": 0.326702,
     "end_time": "2022-01-06T20:02:53.398286",
     "exception": false,
     "start_time": "2022-01-06T20:02:53.071584",
     "status": "completed"
    },
    "tags": []
   },
   "outputs": [
    {
     "data": {
      "image/png": "[encoded data removed]",
      "text/plain": [
       "<Figure size 432x288 with 1 Axes>"
      ]
     },
     "metadata": {},
     "output_type": "display_data"
    }
   ],
   "source": [
    "from sklearn.metrics import roc_curve, auc\n",
    "\n",
    "prediction_dict = {'Decision Tree': tree_predictions, \n",
    "                   'Random Forest':forest_predictions, \n",
    "                   'Logistic Regression' :logistic_predictions, \n",
    "                   'SVM': svm_predictions, \n",
    "                   'Naive Bayes': bayes_predictions}\n",
    "\n",
    "for model in prediction_dict:\n",
    "    fpr, tpr, thresholds = roc_curve(ytest, prediction_dict[model])\n",
    "    auc_score = auc(fpr, tpr)\n",
    "    \n",
    "    label = '%s: auc=%f' % (model, auc_score)\n",
    "    plt.plot(fpr, tpr, label = label)\n",
    "\n",
    "plt.ylabel('TPR')\n",
    "plt.xlabel('FPR')\n",
    "plt.legend(loc='lower right')\n",
    "plt.title('Classificadores Titanic')\n",
    "plt.show()"
   ]
  },
  {
   "cell_type": "markdown",
   "id": "0db1f918",
   "metadata": {
    "execution": {
     "iopub.execute_input": "2022-01-05T15:05:16.23821Z",
     "iopub.status.busy": "2022-01-05T15:05:16.237821Z",
     "iopub.status.idle": "2022-01-05T15:05:16.244487Z",
     "shell.execute_reply": "2022-01-05T15:05:16.243531Z",
     "shell.execute_reply.started": "2022-01-05T15:05:16.238171Z"
    },
    "papermill": {
     "duration": 0.055278,
     "end_time": "2022-01-06T20:02:53.509400",
     "exception": false,
     "start_time": "2022-01-06T20:02:53.454122",
     "status": "completed"
    },
    "tags": []
   },
   "source": [
    "Apesar dos modelos serem bem próximos na acurácia, o modelo com melhor desempenho foi o de **Regressão Logística** como podemos ver pelo *AUC* mais próximo de **1.0** dentre os modelos testados."
   ]
  },
  {
   "cell_type": "code",
   "execution_count": 33,
   "id": "29292e21",
   "metadata": {
    "execution": {
     "iopub.execute_input": "2022-01-06T20:02:53.628154Z",
     "iopub.status.busy": "2022-01-06T20:02:53.627511Z",
     "iopub.status.idle": "2022-01-06T20:02:53.821704Z",
     "shell.execute_reply": "2022-01-06T20:02:53.822197Z",
     "shell.execute_reply.started": "2022-01-06T19:46:41.718561Z"
    },
    "papermill": {
     "duration": 0.257364,
     "end_time": "2022-01-06T20:02:53.822377",
     "exception": false,
     "start_time": "2022-01-06T20:02:53.565013",
     "status": "completed"
    },
    "tags": []
   },
   "outputs": [
    {
     "data": {
      "text/plain": [
       "<sklearn.metrics._plot.confusion_matrix.ConfusionMatrixDisplay at 0x7fb902191310>"
      ]
     },
     "execution_count": 33,
     "metadata": {},
     "output_type": "execute_result"
    },
    {
     "data": {
      "image/png": "[encoded data removed]",
      "text/plain": [
       "<Figure size 432x288 with 2 Axes>"
      ]
     },
     "metadata": {},
     "output_type": "display_data"
    }
   ],
   "source": [
    "from sklearn.metrics import plot_confusion_matrix\n",
    "\n",
    "plot_confusion_matrix(logistic_model, Xtest, ytest)"
   ]
  },
  {
   "cell_type": "markdown",
   "id": "3b2cc74c",
   "metadata": {
    "papermill": {
     "duration": 0.056385,
     "end_time": "2022-01-06T20:02:53.935801",
     "exception": false,
     "start_time": "2022-01-06T20:02:53.879416",
     "status": "completed"
    },
    "tags": []
   },
   "source": [
    "# Resultados"
   ]
  },
  {
   "cell_type": "markdown",
   "id": "3644ab69",
   "metadata": {
    "papermill": {
     "duration": 0.056055,
     "end_time": "2022-01-06T20:02:54.048516",
     "exception": false,
     "start_time": "2022-01-06T20:02:53.992461",
     "status": "completed"
    },
    "tags": []
   },
   "source": [
    "Através do modelo de regressão logística podemos realizar as previsões para os dados originais de teste, uma vez que foi o modelo que apresentou melhor desempenho, dentre os modelos testados, com os dados utilizados.  "
   ]
  },
  {
   "cell_type": "markdown",
   "id": "0bc4fe7a",
   "metadata": {
    "papermill": {
     "duration": 0.056445,
     "end_time": "2022-01-06T20:02:54.161317",
     "exception": false,
     "start_time": "2022-01-06T20:02:54.104872",
     "status": "completed"
    },
    "tags": []
   },
   "source": [
    "No entanto, antes disso vamos realizar algumas operações no conjunto de dados de teste."
   ]
  },
  {
   "cell_type": "code",
   "execution_count": 34,
   "id": "6c042f30",
   "metadata": {
    "execution": {
     "iopub.execute_input": "2022-01-06T20:02:54.277702Z",
     "iopub.status.busy": "2022-01-06T20:02:54.277089Z",
     "iopub.status.idle": "2022-01-06T20:02:54.313661Z",
     "shell.execute_reply": "2022-01-06T20:02:54.313200Z",
     "shell.execute_reply.started": "2022-01-06T19:46:42.013471Z"
    },
    "papermill": {
     "duration": 0.095833,
     "end_time": "2022-01-06T20:02:54.313802",
     "exception": false,
     "start_time": "2022-01-06T20:02:54.217969",
     "status": "completed"
    },
    "tags": []
   },
   "outputs": [
    {
     "data": {
      "text/html": [
       "<div>\n",
       "<style scoped>\n",
       "    .dataframe tbody tr th:only-of-type {\n",
       "        vertical-align: middle;\n",
       "    }\n",
       "\n",
       "    .dataframe tbody tr th {\n",
       "        vertical-align: top;\n",
       "    }\n",
       "\n",
       "    .dataframe thead th {\n",
       "        text-align: right;\n",
       "    }\n",
       "</style>\n",
       "<table border=\"1\" class=\"dataframe\">\n",
       "  <thead>\n",
       "    <tr style=\"text-align: right;\">\n",
       "      <th></th>\n",
       "      <th>PassengerId</th>\n",
       "      <th>Age</th>\n",
       "      <th>Fare</th>\n",
       "      <th>Pclass_1</th>\n",
       "      <th>Pclass_2</th>\n",
       "      <th>Pclass_3</th>\n",
       "      <th>Sex_female</th>\n",
       "      <th>Sex_male</th>\n",
       "      <th>Embarked_C</th>\n",
       "      <th>Embarked_Q</th>\n",
       "      <th>Embarked_S</th>\n",
       "    </tr>\n",
       "  </thead>\n",
       "  <tbody>\n",
       "    <tr>\n",
       "      <th>count</th>\n",
       "      <td>418.000000</td>\n",
       "      <td>332.000000</td>\n",
       "      <td>417.000000</td>\n",
       "      <td>418.000000</td>\n",
       "      <td>418.000000</td>\n",
       "      <td>418.000000</td>\n",
       "      <td>418.000000</td>\n",
       "      <td>418.000000</td>\n",
       "      <td>418.000000</td>\n",
       "      <td>418.000000</td>\n",
       "      <td>418.000000</td>\n",
       "    </tr>\n",
       "    <tr>\n",
       "      <th>mean</th>\n",
       "      <td>1100.500000</td>\n",
       "      <td>30.272590</td>\n",
       "      <td>35.627188</td>\n",
       "      <td>0.255981</td>\n",
       "      <td>0.222488</td>\n",
       "      <td>0.521531</td>\n",
       "      <td>0.363636</td>\n",
       "      <td>0.636364</td>\n",
       "      <td>0.244019</td>\n",
       "      <td>0.110048</td>\n",
       "      <td>0.645933</td>\n",
       "    </tr>\n",
       "    <tr>\n",
       "      <th>std</th>\n",
       "      <td>120.810458</td>\n",
       "      <td>14.181209</td>\n",
       "      <td>55.907576</td>\n",
       "      <td>0.436934</td>\n",
       "      <td>0.416416</td>\n",
       "      <td>0.500135</td>\n",
       "      <td>0.481622</td>\n",
       "      <td>0.481622</td>\n",
       "      <td>0.430019</td>\n",
       "      <td>0.313324</td>\n",
       "      <td>0.478803</td>\n",
       "    </tr>\n",
       "    <tr>\n",
       "      <th>min</th>\n",
       "      <td>892.000000</td>\n",
       "      <td>0.170000</td>\n",
       "      <td>0.000000</td>\n",
       "      <td>0.000000</td>\n",
       "      <td>0.000000</td>\n",
       "      <td>0.000000</td>\n",
       "      <td>0.000000</td>\n",
       "      <td>0.000000</td>\n",
       "      <td>0.000000</td>\n",
       "      <td>0.000000</td>\n",
       "      <td>0.000000</td>\n",
       "    </tr>\n",
       "    <tr>\n",
       "      <th>25%</th>\n",
       "      <td>996.250000</td>\n",
       "      <td>21.000000</td>\n",
       "      <td>7.895800</td>\n",
       "      <td>0.000000</td>\n",
       "      <td>0.000000</td>\n",
       "      <td>0.000000</td>\n",
       "      <td>0.000000</td>\n",
       "      <td>0.000000</td>\n",
       "      <td>0.000000</td>\n",
       "      <td>0.000000</td>\n",
       "      <td>0.000000</td>\n",
       "    </tr>\n",
       "    <tr>\n",
       "      <th>50%</th>\n",
       "      <td>1100.500000</td>\n",
       "      <td>27.000000</td>\n",
       "      <td>14.454200</td>\n",
       "      <td>0.000000</td>\n",
       "      <td>0.000000</td>\n",
       "      <td>1.000000</td>\n",
       "      <td>0.000000</td>\n",
       "      <td>1.000000</td>\n",
       "      <td>0.000000</td>\n",
       "      <td>0.000000</td>\n",
       "      <td>1.000000</td>\n",
       "    </tr>\n",
       "    <tr>\n",
       "      <th>75%</th>\n",
       "      <td>1204.750000</td>\n",
       "      <td>39.000000</td>\n",
       "      <td>31.500000</td>\n",
       "      <td>1.000000</td>\n",
       "      <td>0.000000</td>\n",
       "      <td>1.000000</td>\n",
       "      <td>1.000000</td>\n",
       "      <td>1.000000</td>\n",
       "      <td>0.000000</td>\n",
       "      <td>0.000000</td>\n",
       "      <td>1.000000</td>\n",
       "    </tr>\n",
       "    <tr>\n",
       "      <th>max</th>\n",
       "      <td>1309.000000</td>\n",
       "      <td>76.000000</td>\n",
       "      <td>512.329200</td>\n",
       "      <td>1.000000</td>\n",
       "      <td>1.000000</td>\n",
       "      <td>1.000000</td>\n",
       "      <td>1.000000</td>\n",
       "      <td>1.000000</td>\n",
       "      <td>1.000000</td>\n",
       "      <td>1.000000</td>\n",
       "      <td>1.000000</td>\n",
       "    </tr>\n",
       "  </tbody>\n",
       "</table>\n",
       "</div>"
      ],
      "text/plain": [
       "       PassengerId         Age        Fare    Pclass_1    Pclass_2  \\\n",
       "count   418.000000  332.000000  417.000000  418.000000  418.000000   \n",
       "mean   1100.500000   30.272590   35.627188    0.255981    0.222488   \n",
       "std     120.810458   14.181209   55.907576    0.436934    0.416416   \n",
       "min     892.000000    0.170000    0.000000    0.000000    0.000000   \n",
       "25%     996.250000   21.000000    7.895800    0.000000    0.000000   \n",
       "50%    1100.500000   27.000000   14.454200    0.000000    0.000000   \n",
       "75%    1204.750000   39.000000   31.500000    1.000000    0.000000   \n",
       "max    1309.000000   76.000000  512.329200    1.000000    1.000000   \n",
       "\n",
       "         Pclass_3  Sex_female    Sex_male  Embarked_C  Embarked_Q  Embarked_S  \n",
       "count  418.000000  418.000000  418.000000  418.000000  418.000000  418.000000  \n",
       "mean     0.521531    0.363636    0.636364    0.244019    0.110048    0.645933  \n",
       "std      0.500135    0.481622    0.481622    0.430019    0.313324    0.478803  \n",
       "min      0.000000    0.000000    0.000000    0.000000    0.000000    0.000000  \n",
       "25%      0.000000    0.000000    0.000000    0.000000    0.000000    0.000000  \n",
       "50%      1.000000    0.000000    1.000000    0.000000    0.000000    1.000000  \n",
       "75%      1.000000    1.000000    1.000000    0.000000    0.000000    1.000000  \n",
       "max      1.000000    1.000000    1.000000    1.000000    1.000000    1.000000  "
      ]
     },
     "execution_count": 34,
     "metadata": {},
     "output_type": "execute_result"
    }
   ],
   "source": [
    "test.describe()"
   ]
  },
  {
   "cell_type": "markdown",
   "id": "e7c03407",
   "metadata": {
    "papermill": {
     "duration": 0.067261,
     "end_time": "2022-01-06T20:02:54.439091",
     "exception": false,
     "start_time": "2022-01-06T20:02:54.371830",
     "status": "completed"
    },
    "tags": []
   },
   "source": [
    "Vamos utilizar da distribuição de idade para completar os valores faltantes no conjunto de teste de forma aleatória."
   ]
  },
  {
   "cell_type": "code",
   "execution_count": 35,
   "id": "8820f18c",
   "metadata": {
    "execution": {
     "iopub.execute_input": "2022-01-06T20:02:54.568481Z",
     "iopub.status.busy": "2022-01-06T20:02:54.567889Z",
     "iopub.status.idle": "2022-01-06T20:02:54.576801Z",
     "shell.execute_reply": "2022-01-06T20:02:54.577260Z",
     "shell.execute_reply.started": "2022-01-06T19:53:32.441970Z"
    },
    "papermill": {
     "duration": 0.069586,
     "end_time": "2022-01-06T20:02:54.577436",
     "exception": false,
     "start_time": "2022-01-06T20:02:54.507850",
     "status": "completed"
    },
    "tags": []
   },
   "outputs": [
    {
     "data": {
      "text/plain": [
       "0      34.500000\n",
       "1      47.000000\n",
       "2      62.000000\n",
       "3      27.000000\n",
       "4      22.000000\n",
       "         ...    \n",
       "413    40.340449\n",
       "414    39.000000\n",
       "415    38.500000\n",
       "416    21.181809\n",
       "417    -3.704264\n",
       "Name: Age, Length: 418, dtype: float64"
      ]
     },
     "execution_count": 35,
     "metadata": {},
     "output_type": "execute_result"
    }
   ],
   "source": [
    "# Funcao para trocar os valores faltantes por um valor aleatorio retirado da distribuição normal de idades\n",
    "def replace_age(x):\n",
    "    if np.isnan(x):\n",
    "        return np.random.normal(mu, sigma)\n",
    "    else:\n",
    "        return x\n",
    "    \n",
    "test['Age'] = test.Age.apply(lambda x: replace_age(x))\n",
    "\n",
    "test.Age"
   ]
  },
  {
   "cell_type": "markdown",
   "id": "94434c49",
   "metadata": {
    "papermill": {
     "duration": 0.056845,
     "end_time": "2022-01-06T20:02:54.691884",
     "exception": false,
     "start_time": "2022-01-06T20:02:54.635039",
     "status": "completed"
    },
    "tags": []
   },
   "source": [
    "Para finalizar a preparação dos dados de teste vamos preencher o valor faltante no **Fare** pela sua respectiva média. Esse método parece ser o mais adequado uma vez que só teremos de preencher um valor no conjunto de dados."
   ]
  },
  {
   "cell_type": "code",
   "execution_count": 36,
   "id": "2c225d4a",
   "metadata": {
    "execution": {
     "iopub.execute_input": "2022-01-06T20:02:54.809411Z",
     "iopub.status.busy": "2022-01-06T20:02:54.808863Z",
     "iopub.status.idle": "2022-01-06T20:02:54.813054Z",
     "shell.execute_reply": "2022-01-06T20:02:54.813520Z",
     "shell.execute_reply.started": "2022-01-06T19:59:50.406519Z"
    },
    "papermill": {
     "duration": 0.064574,
     "end_time": "2022-01-06T20:02:54.813721",
     "exception": false,
     "start_time": "2022-01-06T20:02:54.749147",
     "status": "completed"
    },
    "tags": []
   },
   "outputs": [],
   "source": [
    "test['Fare'] = test.Fare.fillna(value=test.Fare.mean())"
   ]
  },
  {
   "cell_type": "markdown",
   "id": "7d0ee7b9",
   "metadata": {
    "papermill": {
     "duration": 0.05915,
     "end_time": "2022-01-06T20:02:54.930087",
     "exception": false,
     "start_time": "2022-01-06T20:02:54.870937",
     "status": "completed"
    },
    "tags": []
   },
   "source": [
    "Agora podemos aplicar o nosso modelo e realizar as revisões do conjunto de teste."
   ]
  },
  {
   "cell_type": "code",
   "execution_count": 37,
   "id": "170f0d8b",
   "metadata": {
    "execution": {
     "iopub.execute_input": "2022-01-06T20:02:55.049183Z",
     "iopub.status.busy": "2022-01-06T20:02:55.048469Z",
     "iopub.status.idle": "2022-01-06T20:02:55.084134Z",
     "shell.execute_reply": "2022-01-06T20:02:55.084603Z",
     "shell.execute_reply.started": "2022-01-06T19:59:53.476953Z"
    },
    "papermill": {
     "duration": 0.097709,
     "end_time": "2022-01-06T20:02:55.084798",
     "exception": false,
     "start_time": "2022-01-06T20:02:54.987089",
     "status": "completed"
    },
    "tags": []
   },
   "outputs": [
    {
     "data": {
      "text/html": [
       "<div>\n",
       "<style scoped>\n",
       "    .dataframe tbody tr th:only-of-type {\n",
       "        vertical-align: middle;\n",
       "    }\n",
       "\n",
       "    .dataframe tbody tr th {\n",
       "        vertical-align: top;\n",
       "    }\n",
       "\n",
       "    .dataframe thead th {\n",
       "        text-align: right;\n",
       "    }\n",
       "</style>\n",
       "<table border=\"1\" class=\"dataframe\">\n",
       "  <thead>\n",
       "    <tr style=\"text-align: right;\">\n",
       "      <th></th>\n",
       "      <th>PassengerId</th>\n",
       "      <th>Age</th>\n",
       "      <th>Fare</th>\n",
       "      <th>Pclass_1</th>\n",
       "      <th>Pclass_2</th>\n",
       "      <th>Pclass_3</th>\n",
       "      <th>Sex_female</th>\n",
       "      <th>Sex_male</th>\n",
       "      <th>Embarked_C</th>\n",
       "      <th>Embarked_Q</th>\n",
       "      <th>Embarked_S</th>\n",
       "    </tr>\n",
       "  </thead>\n",
       "  <tbody>\n",
       "    <tr>\n",
       "      <th>count</th>\n",
       "      <td>418.000000</td>\n",
       "      <td>418.000000</td>\n",
       "      <td>418.000000</td>\n",
       "      <td>418.000000</td>\n",
       "      <td>418.000000</td>\n",
       "      <td>418.000000</td>\n",
       "      <td>418.000000</td>\n",
       "      <td>418.000000</td>\n",
       "      <td>418.000000</td>\n",
       "      <td>418.000000</td>\n",
       "      <td>418.000000</td>\n",
       "    </tr>\n",
       "    <tr>\n",
       "      <th>mean</th>\n",
       "      <td>1100.500000</td>\n",
       "      <td>30.454728</td>\n",
       "      <td>35.627188</td>\n",
       "      <td>0.255981</td>\n",
       "      <td>0.222488</td>\n",
       "      <td>0.521531</td>\n",
       "      <td>0.363636</td>\n",
       "      <td>0.636364</td>\n",
       "      <td>0.244019</td>\n",
       "      <td>0.110048</td>\n",
       "      <td>0.645933</td>\n",
       "    </tr>\n",
       "    <tr>\n",
       "      <th>std</th>\n",
       "      <td>120.810458</td>\n",
       "      <td>14.624475</td>\n",
       "      <td>55.840500</td>\n",
       "      <td>0.436934</td>\n",
       "      <td>0.416416</td>\n",
       "      <td>0.500135</td>\n",
       "      <td>0.481622</td>\n",
       "      <td>0.481622</td>\n",
       "      <td>0.430019</td>\n",
       "      <td>0.313324</td>\n",
       "      <td>0.478803</td>\n",
       "    </tr>\n",
       "    <tr>\n",
       "      <th>min</th>\n",
       "      <td>892.000000</td>\n",
       "      <td>-11.749691</td>\n",
       "      <td>0.000000</td>\n",
       "      <td>0.000000</td>\n",
       "      <td>0.000000</td>\n",
       "      <td>0.000000</td>\n",
       "      <td>0.000000</td>\n",
       "      <td>0.000000</td>\n",
       "      <td>0.000000</td>\n",
       "      <td>0.000000</td>\n",
       "      <td>0.000000</td>\n",
       "    </tr>\n",
       "    <tr>\n",
       "      <th>25%</th>\n",
       "      <td>996.250000</td>\n",
       "      <td>21.000000</td>\n",
       "      <td>7.895800</td>\n",
       "      <td>0.000000</td>\n",
       "      <td>0.000000</td>\n",
       "      <td>0.000000</td>\n",
       "      <td>0.000000</td>\n",
       "      <td>0.000000</td>\n",
       "      <td>0.000000</td>\n",
       "      <td>0.000000</td>\n",
       "      <td>0.000000</td>\n",
       "    </tr>\n",
       "    <tr>\n",
       "      <th>50%</th>\n",
       "      <td>1100.500000</td>\n",
       "      <td>28.491120</td>\n",
       "      <td>14.454200</td>\n",
       "      <td>0.000000</td>\n",
       "      <td>0.000000</td>\n",
       "      <td>1.000000</td>\n",
       "      <td>0.000000</td>\n",
       "      <td>1.000000</td>\n",
       "      <td>0.000000</td>\n",
       "      <td>0.000000</td>\n",
       "      <td>1.000000</td>\n",
       "    </tr>\n",
       "    <tr>\n",
       "      <th>75%</th>\n",
       "      <td>1204.750000</td>\n",
       "      <td>40.000000</td>\n",
       "      <td>31.500000</td>\n",
       "      <td>1.000000</td>\n",
       "      <td>0.000000</td>\n",
       "      <td>1.000000</td>\n",
       "      <td>1.000000</td>\n",
       "      <td>1.000000</td>\n",
       "      <td>0.000000</td>\n",
       "      <td>0.000000</td>\n",
       "      <td>1.000000</td>\n",
       "    </tr>\n",
       "    <tr>\n",
       "      <th>max</th>\n",
       "      <td>1309.000000</td>\n",
       "      <td>76.000000</td>\n",
       "      <td>512.329200</td>\n",
       "      <td>1.000000</td>\n",
       "      <td>1.000000</td>\n",
       "      <td>1.000000</td>\n",
       "      <td>1.000000</td>\n",
       "      <td>1.000000</td>\n",
       "      <td>1.000000</td>\n",
       "      <td>1.000000</td>\n",
       "      <td>1.000000</td>\n",
       "    </tr>\n",
       "  </tbody>\n",
       "</table>\n",
       "</div>"
      ],
      "text/plain": [
       "       PassengerId         Age        Fare    Pclass_1    Pclass_2  \\\n",
       "count   418.000000  418.000000  418.000000  418.000000  418.000000   \n",
       "mean   1100.500000   30.454728   35.627188    0.255981    0.222488   \n",
       "std     120.810458   14.624475   55.840500    0.436934    0.416416   \n",
       "min     892.000000  -11.749691    0.000000    0.000000    0.000000   \n",
       "25%     996.250000   21.000000    7.895800    0.000000    0.000000   \n",
       "50%    1100.500000   28.491120   14.454200    0.000000    0.000000   \n",
       "75%    1204.750000   40.000000   31.500000    1.000000    0.000000   \n",
       "max    1309.000000   76.000000  512.329200    1.000000    1.000000   \n",
       "\n",
       "         Pclass_3  Sex_female    Sex_male  Embarked_C  Embarked_Q  Embarked_S  \n",
       "count  418.000000  418.000000  418.000000  418.000000  418.000000  418.000000  \n",
       "mean     0.521531    0.363636    0.636364    0.244019    0.110048    0.645933  \n",
       "std      0.500135    0.481622    0.481622    0.430019    0.313324    0.478803  \n",
       "min      0.000000    0.000000    0.000000    0.000000    0.000000    0.000000  \n",
       "25%      0.000000    0.000000    0.000000    0.000000    0.000000    0.000000  \n",
       "50%      1.000000    0.000000    1.000000    0.000000    0.000000    1.000000  \n",
       "75%      1.000000    1.000000    1.000000    0.000000    0.000000    1.000000  \n",
       "max      1.000000    1.000000    1.000000    1.000000    1.000000    1.000000  "
      ]
     },
     "execution_count": 37,
     "metadata": {},
     "output_type": "execute_result"
    }
   ],
   "source": [
    "test.describe()"
   ]
  },
  {
   "cell_type": "code",
   "execution_count": 38,
   "id": "3d1f5b45",
   "metadata": {
    "execution": {
     "iopub.execute_input": "2022-01-06T20:02:55.203509Z",
     "iopub.status.busy": "2022-01-06T20:02:55.202956Z",
     "iopub.status.idle": "2022-01-06T20:02:55.212543Z",
     "shell.execute_reply": "2022-01-06T20:02:55.213016Z",
     "shell.execute_reply.started": "2022-01-06T19:59:58.168145Z"
    },
    "papermill": {
     "duration": 0.070283,
     "end_time": "2022-01-06T20:02:55.213180",
     "exception": false,
     "start_time": "2022-01-06T20:02:55.142897",
     "status": "completed"
    },
    "tags": []
   },
   "outputs": [],
   "source": [
    "# Treino e Previsão do modelo com os dados completos de treino e teste\n",
    "logistic_model = LogisticRegression(solver='liblinear').fit(train.drop('Survived', axis=1), train.Survived) \n",
    "\n",
    "logistic_predictions = logistic_model.predict(test.drop('PassengerId', axis=1))"
   ]
  },
  {
   "cell_type": "code",
   "execution_count": 39,
   "id": "dae328e2",
   "metadata": {
    "execution": {
     "iopub.execute_input": "2022-01-06T20:02:55.335163Z",
     "iopub.status.busy": "2022-01-06T20:02:55.334298Z",
     "iopub.status.idle": "2022-01-06T20:02:55.341480Z",
     "shell.execute_reply": "2022-01-06T20:02:55.340904Z",
     "shell.execute_reply.started": "2022-01-06T20:00:54.030800Z"
    },
    "papermill": {
     "duration": 0.07072,
     "end_time": "2022-01-06T20:02:55.341620",
     "exception": false,
     "start_time": "2022-01-06T20:02:55.270900",
     "status": "completed"
    },
    "tags": []
   },
   "outputs": [
    {
     "data": {
      "text/html": [
       "<div>\n",
       "<style scoped>\n",
       "    .dataframe tbody tr th:only-of-type {\n",
       "        vertical-align: middle;\n",
       "    }\n",
       "\n",
       "    .dataframe tbody tr th {\n",
       "        vertical-align: top;\n",
       "    }\n",
       "\n",
       "    .dataframe thead th {\n",
       "        text-align: right;\n",
       "    }\n",
       "</style>\n",
       "<table border=\"1\" class=\"dataframe\">\n",
       "  <thead>\n",
       "    <tr style=\"text-align: right;\">\n",
       "      <th></th>\n",
       "      <th>PassengerId</th>\n",
       "      <th>Survived</th>\n",
       "    </tr>\n",
       "  </thead>\n",
       "  <tbody>\n",
       "    <tr>\n",
       "      <th>0</th>\n",
       "      <td>892</td>\n",
       "      <td>0</td>\n",
       "    </tr>\n",
       "    <tr>\n",
       "      <th>1</th>\n",
       "      <td>893</td>\n",
       "      <td>0</td>\n",
       "    </tr>\n",
       "    <tr>\n",
       "      <th>2</th>\n",
       "      <td>894</td>\n",
       "      <td>0</td>\n",
       "    </tr>\n",
       "    <tr>\n",
       "      <th>3</th>\n",
       "      <td>895</td>\n",
       "      <td>0</td>\n",
       "    </tr>\n",
       "    <tr>\n",
       "      <th>4</th>\n",
       "      <td>896</td>\n",
       "      <td>1</td>\n",
       "    </tr>\n",
       "  </tbody>\n",
       "</table>\n",
       "</div>"
      ],
      "text/plain": [
       "   PassengerId  Survived\n",
       "0          892         0\n",
       "1          893         0\n",
       "2          894         0\n",
       "3          895         0\n",
       "4          896         1"
      ]
     },
     "execution_count": 39,
     "metadata": {},
     "output_type": "execute_result"
    }
   ],
   "source": [
    "output = pd.DataFrame({'PassengerId': test.PassengerId, 'Survived': logistic_predictions})\n",
    "\n",
    "output.head()"
   ]
  },
  {
   "cell_type": "code",
   "execution_count": 40,
   "id": "0a934546",
   "metadata": {
    "execution": {
     "iopub.execute_input": "2022-01-06T20:02:55.462882Z",
     "iopub.status.busy": "2022-01-06T20:02:55.462284Z",
     "iopub.status.idle": "2022-01-06T20:02:55.470140Z",
     "shell.execute_reply": "2022-01-06T20:02:55.469373Z",
     "shell.execute_reply.started": "2022-01-06T20:01:03.584172Z"
    },
    "papermill": {
     "duration": 0.070063,
     "end_time": "2022-01-06T20:02:55.470335",
     "exception": false,
     "start_time": "2022-01-06T20:02:55.400272",
     "status": "completed"
    },
    "tags": []
   },
   "outputs": [
    {
     "name": "stdout",
     "output_type": "stream",
     "text": [
      "Your submission was successfully saved!\n"
     ]
    }
   ],
   "source": [
    "output.to_csv('submission.csv', index=False)\n",
    "print(\"Your submission was successfully saved!\")"
   ]
  }
 ],
 "metadata": {
  "kernelspec": {
   "display_name": "Python 3",
   "language": "python",
   "name": "python3"
  },
  "language_info": {
   "codemirror_mode": {
    "name": "ipython",
    "version": 3
   },
   "file_extension": ".py",
   "mimetype": "text/x-python",
   "name": "python",
   "nbconvert_exporter": "python",
   "pygments_lexer": "ipython3",
   "version": "3.7.12"
  },
  "papermill": {
   "default_parameters": {},
   "duration": 45.420552,
   "end_time": "2022-01-06T20:02:56.442877",
   "environment_variables": {},
   "exception": null,
   "input_path": "__notebook__.ipynb",
   "output_path": "__notebook__.ipynb",
   "parameters": {},
   "start_time": "2022-01-06T20:02:11.022325",
   "version": "2.3.3"
  }
 },
 "nbformat": 4,
 "nbformat_minor": 5
}
